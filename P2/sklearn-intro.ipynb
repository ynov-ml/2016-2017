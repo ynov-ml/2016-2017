{
 "cells": [
  {
   "cell_type": "markdown",
   "metadata": {},
   "source": [
    "# Scikit Learn et données\n",
    "\n",
    "Scikit-learn propose quelques ensembles de données, notamment [iris](http://en.wikipedia.org/wiki/Iris_flower_data_set) et [digits](http://archive.ics.uci.edu/ml/datasets/Pen-Based+Recognition+of+Handwritten+Digits) (classification) et le [boston house prices dataset](http://archive.ics.uci.edu/ml/datasets/Housing) (regression).\n",
    "\n",
    "Exercice : en trouvez d'autres..."
   ]
  },
  {
   "cell_type": "code",

   "execution_count": 3,
   "metadata": {
    "collapsed": true
   },
   "outputs": [],
   "source": [
    "import numpy as np\n",
    "import scipy as sp\n",
    "from sklearn import datasets\n",
    "\n",
    "iris = datasets.load_iris()\n",
    "digits = datasets.load_digits()\n",
    "boston = datasets.load_boston()"
   ]
  },
  {
   "cell_type": "markdown",
   "metadata": {},
   "source": [
    "# Même avant scikit-learn\n",
    "\n",
    "Les libraries `numpy` et `scipy` ont plein de bonnes choses dedans.  Explorez-les un peu."
   ]
  },
  {
   "cell_type": "markdown",
   "metadata": {},
   "source": [
    "# sklearn.datasets\n",
    "\n",
    "Un dataset ressemble à un `dict`.  Explorez les membres suivants (e.g., `iris.DESCR`) :\n",
    "* `data`\n",
    "* `target`\n",
    "* `feature_names`\n",
    "* `DESCR`\n",
    "Puis utilisez ce que vous avez appris dans la module pandas pour explorer les données elles-même."
   ]
  },
  {
   "cell_type": "markdown",
   "metadata": {
    "collapsed": false
   },
   "source": [
    "<img src=\"petal_sepal_label.png\">"
   ]
  },
  {
   "cell_type": "markdown",
   "metadata": {},
   "source": [
    "En anglais (pour correspondre aux noms des fonctions) : \"We fit an estimator to the data to predict the classes to which unseen samples belong\".  Donc, un `estimator` implemente les méthode `fit(X, y)` et `predit(T)`.\n",
    "\n",
    "Le constructeur d'un estimateur accepte les paramètes du modèle.\n",
    "Il est également possible de changer les paramètes après création."
   ]
  },
  {
   "cell_type": "code",

   "execution_count": 4,
   "metadata": {
    "collapsed": false
   },
   "outputs": [
    {
     "name": "stdout",
     "output_type": "stream",
     "text": [
      "0.002\n",
      "0.001\n"
     ]
    },
    {
     "data": {
      "text/plain": [
       "array([8])"
      ]
     },
     "execution_count": 4,
     "metadata": {},
     "output_type": "execute_result"
    }
   ],

   "source": [
    "from sklearn import svm\n",
    "\n",
    "model = svm.SVC(gamma=0.002, C=100.)\n",
    "print(model.gamma)\n",
    "model.set_params(gamma=.001)\n",
    "print(model.gamma)\n",
    "model.fit(digits.data[:-1], digits.target[:-1])\n",
    "model.predict([digits.data[-1]])"
   ]
  },
  {
   "cell_type": "markdown",
   "metadata": {},
   "source": [
    "Nous pouvons regarder l'image.\n",
    "\n",
    "* Qu'est-ce qui est l'effet de `cmap`?"
   ]
  },
  {
   "cell_type": "code",

   "execution_count": 5,
   "metadata": {
    "collapsed": false
   },
   "outputs": [
    {
     "data": {
      "text/plain": [
       "<matplotlib.image.AxesImage at 0x2da5c6c09e8>"
      ]
     },
     "execution_count": 5,
     "metadata": {},
     "output_type": "execute_result"
    },
    {
     "data": {
      "image/png": "iVBORw0KGgoAAAANSUhEUgAAAVgAAAFdCAYAAABGoXXzAAAABHNCSVQICAgIfAhkiAAAAAlwSFlz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\nSUVORK5CYII=\n",
      "text/plain": [
       "<matplotlib.figure.Figure at 0x2da5c26c0f0>"
      ]
     },
     "metadata": {},
     "output_type": "display_data"
    }
   ],

   "source": [
    "import pylab as pl\n",
    "%matplotlib inline\n",
    "\n",
    "pl.imshow(digits.images[-1], cmap=pl.cm.gray_r)"
   ]
  },
  {
   "cell_type": "markdown",
   "metadata": {},
   "source": [
    "À savoir (mais pour un autre jour) :\n",
    "* pickle marche\n",
    "* `sklearn.externals.joblib` est parfois plus efficace\n",
    "\n",
    "Un estimator prend un ensemble de données, typiquement un array de dimension 2 (`np.ndarray`, cf. `.shape`)."
   ]
  },
  {
   "cell_type": "markdown",
   "metadata": {
    "collapsed": false
   },
   "source": [
    "Regardons les iris :\n",
    "* Il y a combien de classes d'iris?\n",
    "* Il y a combien de vecteurs dans le training data?\n",
    "* Il y a combien de dimensions?"
   ]
  },
  {
   "cell_type": 
   "execution_count": 9,

   "metadata": {
    "collapsed": false
   },
   "outputs": [],
   "source": [
    "iris = datasets.load_iris()\n",
    "iris_X = iris.data\n",
    "iris_y = iris.target"
   ]
  },
  {
   "cell_type": "markdown",
   "metadata": {},
   "source": [
    "Le classifieur le plus simple imagineable s'appelle kNN.  Avec scikit-learn, c'est facile.  (Visualisaton à suivre.)\n",
    "\n",
    "Le nombre de dimensions peut monter très vite, ce qui pose des problèmes pour kNN.\n",
    "* Il y a combien de point sur une lattice espacés de $1/n$ en dimension 1, 2, 3, ..., n ?\n",
    "* Qu'est-ce qui est la distance entre 0 et 1 (les vecteurs des coins opposés) dans $[0,1]^d$?"
   ]
  },
  {
   "cell_type": "code",

   "execution_count": 10,
   "metadata": {
    "collapsed": false
   },
   "outputs": [
    {
     "name": "stdout",
     "output_type": "stream",
     "text": [
      "[1 2 1 0 0 0 2 1 2 0]\n",
      "[1 1 1 0 0 0 2 1 2 0]\n"
     ]
    },
    {
     "data": {
      "text/plain": [
       "0.90000000000000002"
      ]
     },
     "execution_count": 10,
     "metadata": {},
     "output_type": "execute_result"
    }
   ],

   "source": [
    "# Split iris data in train and test data\n",
    "# A random permutation, to split the data randomly\n",
    "np.random.seed(0)\n",
    "indices = np.random.permutation(len(iris_X))\n",
    "iris_X_train = iris_X[indices[:-10]]\n",
    "iris_y_train = iris_y[indices[:-10]]\n",
    "iris_X_test  = iris_X[indices[-10:]]\n",
    "iris_y_test  = iris_y[indices[-10:]]\n",
    "# Create and fit a nearest-neighbor classifier\n",
    "from sklearn.neighbors import KNeighborsClassifier\n",
    "knn = KNeighborsClassifier()\n",
    "knn.fit(iris_X_train, iris_y_train) \n",
    "print(knn.predict(iris_X_test))\n",
    "print(iris_y_test)\n",
    "knn.score(iris_X_test, iris_y_test)"
   ]
  },
  {
   "cell_type": "markdown",
   "metadata": {},
   "source": [
    "La régression logistique est un algorithm important de classification dans l'apprentissage.  Le voilà sur les mêmes données :"
   ]
  },
  {
   "cell_type": "code",
   "execution_count": 11,
   "metadata": {
    "collapsed": false
   },
   "outputs": [
    {
     "name": "stdout",
     "output_type": "stream",
     "text": [
      "[1 2 1 0 0 0 2 1 2 0]\n",
      "[1 1 1 0 0 0 2 1 2 0]\n"
     ]
    },
    {
     "data": {
      "text/plain": [
       "0.90000000000000002"
      ]
     },
     "execution_count": 11,
     "metadata": {},
     "output_type": "execute_result"
    }
   ],

   "source": [
    "from sklearn import linear_model\n",
    "\n",
    "logistic = linear_model.LogisticRegression(C=1e5)\n",
    "logistic.fit(iris_X_train, iris_y_train)\n",
    "print(logistic.predict(iris_X_test))\n",
    "print(iris_y_test)\n",
    "logistic.score(iris_X_test, iris_y_test)"
   ]
  },
  {
   "cell_type": "markdown",
   "metadata": {},
   "source": [
    "Exercice :\n",
    "* Pourquoi sont les scores les mêmes dans les deux exemples précédents?\n",
    "* À quoi sert le score?"
   ]
  },
  {
   "cell_type": "code",

   "execution_count": 12,
   "metadata": {
    "collapsed": false
   },
   "outputs": [
    {
     "name": "stdout",
     "output_type": "stream",
     "text": [
      "[0.90000000000000002, 0.90000000000000002, 1.0, 0.90000000000000002, 1.0, 1.0, 0.69999999999999996, 1.0, 1.0, 1.0]\n"
     ]
    }
   ],

   "source": [
    "scores = []\n",
    "for k in range(10):\n",
    "    indices = np.random.permutation(len(iris_X))\n",
    "    iris_X_train = iris_X[indices[:-10]]\n",
    "    iris_y_train = iris_y[indices[:-10]]\n",
    "    iris_X_test  = iris_X[indices[-10:]]\n",
    "    iris_y_test  = iris_y[indices[-10:]]\n",
    "    \n",
    "    knn = KNeighborsClassifier()\n",
    "    knn.fit(iris_X_train, iris_y_train) \n",
    "    scores.append(knn.score(iris_X_test, iris_y_test))\n",
    "print(scores)"
   ]
  },
  {
   "cell_type": "code",

   "execution_count": 8,
   "metadata": {
    "collapsed": false
   },
   "outputs": [
    {
     "data": {
      "text/plain": [
       "[0.93888888888888888,\n",
       " 0.99444444444444446,\n",
       " 0.93333333333333335,\n",
       " 0.96666666666666667,\n",
       " 0.96111111111111114,\n",
       " 0.98888888888888893,\n",
       " 0.96666666666666667,\n",
       " 0.98882681564245811,\n",
       " 0.93296089385474856,\n",
       " 0.96648044692737434]"
      ]
     },
     "execution_count": 8,
     "metadata": {},
     "output_type": "execute_result"
    }
   ],

   "source": [
    "X_digits = digits.data\n",
    "y_digits = digits.target\n",
    "svc = svm.SVC(C=1, kernel='linear')\n",
    "\n",
    "N = 10\n",
    "X_folds = np.array_split(X_digits, N)\n",
    "y_folds = np.array_split(y_digits, N)\n",
    "scores = list()\n",
    "for k in range(N):\n",
    "     # We use 'list' to copy, in order to 'pop' later on\n",
    "     X_train = list(X_folds)\n",
    "     X_test  = X_train.pop(k)\n",
    "     X_train = np.concatenate(X_train)\n",
    "     y_train = list(y_folds)\n",
    "     y_test  = y_train.pop(k)\n",
    "     y_train = np.concatenate(y_train)\n",
    "     scores.append(svc.fit(X_train, y_train).score(X_test, y_test))\n",
    "scores"
   ]
  },
  {
   "cell_type": "markdown",
   "metadata": {},
   "source": [
    "Ce qu'on vient de faire s'appelle \"cross validation\" (validation croisée).  On peut le faire plus facilement :"
   ]
  },
  {
   "cell_type": "code",

   "execution_count": null,
   "metadata": {
    "collapsed": false
   },
   "outputs": [],

   "source": [
    "from sklearn import model_selection\n",
    "\n",
    "k_fold = cross_validation.KFold(n=6, n_folds=3)\n",
    "for train_indices, test_indices in k_fold:\n",
    "    print('Train: %s | test: %s' % (train_indices, test_indices))"
   ]
  },
  {
   "cell_type": "code",

   "execution_count": null,
   "metadata": {
    "collapsed": false
   },
   "outputs": [],

   "source": [
    "kfold = cross_validation.KFold(len(X_digits), n_folds=N)\n",
    "[svc.fit(X_digits[train], y_digits[train]).score(\n",
    "        X_digits[test], y_digits[test])\n",
    " for train, test in kfold]"
   ]
  },
  {
   "cell_type": "code",

   "execution_count": 16,
   "metadata": {
    "collapsed": false
   },
   "outputs": [
    {
     "ename": "NameError",
     "evalue": "name 'cross_validation' is not defined",
     "output_type": "error",
     "traceback": [
      "\u001b[0;31m---------------------------------------------------------------------------\u001b[0m",
      "\u001b[0;31mNameError\u001b[0m                                 Traceback (most recent call last)",
      "\u001b[0;32m<ipython-input-16-268eb5cf49cf>\u001b[0m in \u001b[0;36m<module>\u001b[0;34m()\u001b[0m\n\u001b[0;32m----> 1\u001b[0;31m cross_validation.cross_val_score(\n\u001b[0m\u001b[1;32m      2\u001b[0m     svc, X_digits, y_digits, cv=kfold, n_jobs=-1)\n",
      "\u001b[0;31mNameError\u001b[0m: name 'cross_validation' is not defined"
     ]
    }
   ],

   "source": [
    "cross_validation.cross_val_score(\n",
    "    svc, X_digits, y_digits, cv=kfold, n_jobs=-1)"
   ]
  },
  {
   "cell_type": "markdown",
   "metadata": {
    "collapsed": true
   },
   "source": [
    "En validation croisée, plus c'est grand, plus c'est bon.\n",
    "\n",
    "À voir également :\n",
    "* KFold\n",
    "* StratifiedKFold\n",
    "* LeaveOneOut\n",
    "* LeaveOneLabelOut\n",
    "\n",
    "## Estimation d'un paramètre\n",
    "\n",
    "Nous voudrions trouver quelle valeur du paramètre $C$ nous donne un bon rendu de SVM avec noyau linéaire.  Pour l'instant, on ne parle ni de SVM ni des noyaux : ce sont simplement des classificateurs.  L'important ici est qu'il existe un paramètre $C$ qui touche sur la qualité de nos résultats.\n",
    "\n",
    "C'est $C$ qui gère le séparateur : marge dure ($C$ grand) ou molle (douce) ($C>0$ petit)."
   ]
  },
  {
   "cell_type": "code",

   "execution_count": 11,
   "metadata": {
    "collapsed": false
   },
   "outputs": [
    {
     "data": {
      "image/png": "iVBORw0KGgoAAAANSUhEUgAAAYcAAAEqCAYAAAD+nJxOAAAABHNCSVQICAgIfAhkiAAAAAlwSFlz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\n",
      "text/plain": [
       "<matplotlib.figure.Figure at 0x233513fd320>"
      ]
     },
     "metadata": {},
     "output_type": "display_data"
    }
   ],

   "source": [
    "import numpy as np\n",
    "from sklearn import cross_validation, datasets, svm\n",
    "\n",
    "digits = datasets.load_digits()\n",
    "X = digits.data\n",
    "y = digits.target\n",
    "\n",
    "svc = svm.SVC(kernel='linear')\n",
    "C_s = np.logspace(-10, 0, 10)\n",
    "\n",
    "scores = list()\n",
    "scores_std = list()\n",
    "for C in C_s:\n",
    "    svc.C = C\n",
    "    this_scores = cross_validation.cross_val_score(svc, X, y, n_jobs=1)\n",
    "    scores.append(np.mean(this_scores))\n",
    "    scores_std.append(np.std(this_scores))\n",
    "\n",
    "# Do the plotting\n",
    "import matplotlib.pyplot as plt\n",
    "plt.figure(1, figsize=(4, 3))\n",
    "plt.clf()\n",
    "plt.semilogx(C_s, scores)\n",
    "plt.semilogx(C_s, np.array(scores) + np.array(scores_std), 'b--')\n",
    "plt.semilogx(C_s, np.array(scores) - np.array(scores_std), 'b--')\n",
    "locs, labels = plt.yticks()\n",
    "plt.yticks(locs, list(map(lambda x: \"%g\" % x, locs)))\n",
    "plt.ylabel('CV score')\n",
    "plt.xlabel('Parameter C')\n",
    "plt.ylim(0, 1.1)\n",
    "plt.show()"
   ]
  },
  {
   "cell_type": "markdown",
   "metadata": {},
   "source": [
    "## Grid search\n",
    "\n",
    "Note pour plus tard : Voir l'argument `cv`.  `GridSearch` fait 3-fold validation croisée pour la régression, stratified 3-fold pour un classificateur."
   ]
  },
  {
   "cell_type": "code",

   "execution_count": null,
   "metadata": {
    "collapsed": false
   },
   "outputs": [],

   "source": [
    "from sklearn.model_selection import GridSearchCV, cross_val_score\n",
    "\n",
    "Cs = np.logspace(-6, -1, 10)\n",
    "clf = GridSearchCV(estimator=svc, param_grid=dict(C=Cs), n_jobs=-1)\n",
    "clf.fit(X_digits[:1000], y_digits[:1000])\n",
    "print(clf.best_score_)\n",
    "print(clf.best_estimator_.C)\n",
    "\n",
    "# Prediction performance on test set is not as good as on train set\n",
    "print(clf.score(X_digits[1000:], y_digits[1000:]))"
   ]
  },
  {
   "cell_type": "markdown",
   "metadata": {
    "collapsed": true
   },
   "source": [
    "# Pipelining\n",
    "\n",
    "Grace à l'interface uniforme des classes estimateurs, nous avons la possibilité de créer des _pipelines_ : des composition de plusieurs estimateurs.\n",
    "\n",
    "## Digits\n",
    "\n",
    "Une première exemple d'un pipeline."
   ]
  },
  {
   "cell_type": "code",

   "execution_count": null,
   "metadata": {
    "collapsed": false
   },
   "outputs": [],

   "source": [
    "from sklearn import linear_model, decomposition, datasets\n",
    "from sklearn.pipeline import Pipeline\n",
    "from sklearn.model_selection import GridSearchCV\n",
    "\n",
    "logistic = linear_model.LogisticRegression()\n",
    "\n",
    "pca = decomposition.PCA()\n",
    "pipe = Pipeline(steps=[('pca', pca), ('logistic', logistic)])\n",
    "\n",
    "digits = datasets.load_digits()\n",
    "X_digits = digits.data\n",
    "y_digits = digits.target\n",
    "\n",
    "###############################################################################\n",
    "# Plot the PCA spectrum\n",
    "pca.fit(X_digits)\n",
    "\n",
    "plt.figure(1, figsize=(4, 3))\n",
    "plt.clf()\n",
    "plt.axes([.2, .2, .7, .7])\n",
    "plt.plot(pca.explained_variance_, linewidth=2)\n",
    "plt.axis('tight')\n",
    "plt.xlabel('n_components')\n",
    "plt.ylabel('explained_variance_')\n",
    "\n",
    "###############################################################################\n",
    "# Prediction\n",
    "\n",
    "n_components = [20, 40, 64]\n",
    "Cs = np.logspace(-4, 4, 3)\n",
    "\n",
    "#Parameters of pipelines can be set using ‘__’ separated parameter names:\n",
    "\n",
    "estimator = GridSearchCV(pipe,\n",
    "                         dict(pca__n_components=n_components,\n",
    "                              logistic__C=Cs))\n",
    "estimator.fit(X_digits, y_digits)\n",
    "\n",
    "plt.axvline(estimator.best_estimator_.named_steps['pca'].n_components,\n",
    "            linestyle=':', label='n_components chosen')\n",
    "plt.legend(prop=dict(size=12))\n"
   ]
  },
  {
   "cell_type": "markdown",
   "metadata": {},
   "source": [
    "## Eigenfaces\n",
    "\n",
    "Une deuxième exemple d'un pipeline."
   ]
  },
  {
   "cell_type": "code",

   "execution_count": null,
   "metadata": {
    "collapsed": false
   },
   "outputs": [],

   "source": [
    "\"\"\"\n",
    "===================================================\n",
    "Faces recognition example using eigenfaces and SVMs\n",
    "===================================================\n",
    "\n",
    "The dataset used in this example is a preprocessed excerpt of the\n",
    "\"Labeled Faces in the Wild\", aka LFW_:\n",
    "\n",
    "  http://vis-www.cs.umass.edu/lfw/lfw-funneled.tgz (233MB)\n",
    "\n",
    ".. _LFW: http://vis-www.cs.umass.edu/lfw/\n",
    "\n",
    "Expected results for the top 5 most represented people in the dataset:\n",
    "\n",
    "================== ============ ======= ========== =======\n",
    "                   precision    recall  f1-score   support\n",
    "================== ============ ======= ========== =======\n",
    "     Ariel Sharon       0.67      0.92      0.77        13\n",
    "     Colin Powell       0.75      0.78      0.76        60\n",
    "  Donald Rumsfeld       0.78      0.67      0.72        27\n",
    "    George W Bush       0.86      0.86      0.86       146\n",
    "Gerhard Schroeder       0.76      0.76      0.76        25\n",
    "      Hugo Chavez       0.67      0.67      0.67        15\n",
    "       Tony Blair       0.81      0.69      0.75        36\n",
    "\n",
    "      avg / total       0.80      0.80      0.80       322\n",
    "================== ============ ======= ========== =======\n",
    "\n",
    "\"\"\"\n",
    "from __future__ import print_function\n",
    "\n",
    "from time import time\n",
    "import logging\n",
    "import matplotlib.pyplot as plt\n",
    "\n",
    "from sklearn.model_selection import train_test_split\n",
    "from sklearn.model_selection import GridSearchCV\n",
    "from sklearn.datasets import fetch_lfw_people\n",
    "from sklearn.metrics import classification_report\n",
    "from sklearn.metrics import confusion_matrix\n",
    "from sklearn.decomposition import PCA\n",
    "from sklearn.svm import SVC\n",
    "\n",
    "\n",
    "print(__doc__)\n",
    "\n",
    "# Display progress logs on stdout\n",
    "logging.basicConfig(level=logging.INFO, format='%(asctime)s %(message)s')\n",
    "\n",
    "\n",
    "###############################################################################\n",
    "# Download the data, if not already on disk and load it as numpy arrays\n",
    "\n",
    "lfw_people = fetch_lfw_people(min_faces_per_person=70, resize=0.4)\n",
    "\n",
    "# introspect the images arrays to find the shapes (for plotting)\n",
    "n_samples, h, w = lfw_people.images.shape\n",
    "\n",
    "# for machine learning we use the 2 data directly (as relative pixel\n",
    "# positions info is ignored by this model)\n",
    "X = lfw_people.data\n",
    "n_features = X.shape[1]\n",
    "\n",
    "# the label to predict is the id of the person\n",
    "y = lfw_people.target\n",
    "target_names = lfw_people.target_names\n",
    "n_classes = target_names.shape[0]\n",
    "\n",
    "print(\"Total dataset size:\")\n",
    "print(\"n_samples: %d\" % n_samples)\n",
    "print(\"n_features: %d\" % n_features)\n",
    "print(\"n_classes: %d\" % n_classes)\n",
    "\n",
    "\n",
    "###############################################################################\n",
    "# Split into a training set and a test set using a stratified k fold\n",
    "\n",
    "# split into a training and testing set\n",
    "X_train, X_test, y_train, y_test = train_test_split(\n",
    "    X, y, test_size=0.25, random_state=42)\n",
    "\n",
    "\n",
    "###############################################################################\n",
    "# Compute a PCA (eigenfaces) on the face dataset (treated as unlabeled\n",
    "# dataset): unsupervised feature extraction / dimensionality reduction\n",
    "n_components = 150\n",
    "\n",
    "print(\"Extracting the top %d eigenfaces from %d faces\"\n",
    "      % (n_components, X_train.shape[0]))\n",
    "t0 = time()\n",
    "pca = PCA(n_components=n_components, svd_solver='randomized',\n",
    "          whiten=True).fit(X_train)\n",
    "print(\"done in %0.3fs\" % (time() - t0))\n",
    "\n",
    "eigenfaces = pca.components_.reshape((n_components, h, w))\n",
    "\n",
    "print(\"Projecting the input data on the eigenfaces orthonormal basis\")\n",
    "t0 = time()\n",
    "X_train_pca = pca.transform(X_train)\n",
    "X_test_pca = pca.transform(X_test)\n",
    "print(\"done in %0.3fs\" % (time() - t0))\n",
    "\n",
    "\n",
    "###############################################################################\n",
    "# Train a SVM classification model\n",
    "\n",
    "print(\"Fitting the classifier to the training set\")\n",
    "t0 = time()\n",
    "param_grid = {'C': [1e3, 5e3, 1e4, 5e4, 1e5],\n",
    "              'gamma': [0.0001, 0.0005, 0.001, 0.005, 0.01, 0.1], }\n",
    "clf = GridSearchCV(SVC(kernel='rbf', class_weight='balanced'), param_grid)\n",
    "clf = clf.fit(X_train_pca, y_train)\n",
    "print(\"done in %0.3fs\" % (time() - t0))\n",
    "print(\"Best estimator found by grid search:\")\n",
    "print(clf.best_estimator_)\n",
    "\n",
    "\n",
    "###############################################################################\n",
    "# Quantitative evaluation of the model quality on the test set\n",
    "\n",
    "print(\"Predicting people's names on the test set\")\n",
    "t0 = time()\n",
    "y_pred = clf.predict(X_test_pca)\n",
    "print(\"done in %0.3fs\" % (time() - t0))\n",
    "\n",
    "print(classification_report(y_test, y_pred, target_names=target_names))\n",
    "print(confusion_matrix(y_test, y_pred, labels=range(n_classes)))\n",
    "\n",
    "\n",
    "###############################################################################\n",
    "# Qualitative evaluation of the predictions using matplotlib\n",
    "\n",
    "def plot_gallery(images, titles, h, w, n_row=3, n_col=4):\n",
    "    \"\"\"Helper function to plot a gallery of portraits\"\"\"\n",
    "    plt.figure(figsize=(1.8 * n_col, 2.4 * n_row))\n",
    "    plt.subplots_adjust(bottom=0, left=.01, right=.99, top=.90, hspace=.35)\n",
    "    for i in range(n_row * n_col):\n",
    "        plt.subplot(n_row, n_col, i + 1)\n",
    "        plt.imshow(images[i].reshape((h, w)), cmap=plt.cm.gray)\n",
    "        plt.title(titles[i], size=12)\n",
    "        plt.xticks(())\n",
    "        plt.yticks(())\n",
    "\n",
    "\n",
    "# plot the result of the prediction on a portion of the test set\n",
    "\n",
    "def title(y_pred, y_test, target_names, i):\n",
    "    pred_name = target_names[y_pred[i]].rsplit(' ', 1)[-1]\n",
    "    true_name = target_names[y_test[i]].rsplit(' ', 1)[-1]\n",
    "    return 'predicted: %s\\ntrue:      %s' % (pred_name, true_name)\n",
    "\n",
    "prediction_titles = [title(y_pred, y_test, target_names, i)\n",
    "                     for i in range(y_pred.shape[0])]\n",
    "\n",
    "plot_gallery(X_test, prediction_titles, h, w)\n",
    "\n",
    "# plot the gallery of the most significative eigenfaces\n",
    "\n",
    "eigenface_titles = [\"eigenface %d\" % i for i in range(eigenfaces.shape[0])]\n",
    "plot_gallery(eigenfaces, eigenface_titles, h, w)\n",
    "\n",
    "plt.show()"
   ]

  },
  {
   "cell_type": "code",
   "execution_count": null,
   "metadata": {
    "collapsed": true
   },
   "outputs": [],
   "source": []

  }
 ],
 "metadata": {
  "kernelspec": {

   "display_name": "Python [conda root]",
   "language": "python",
   "name": "conda-root-py"

  },
  "language_info": {
   "codemirror_mode": {
    "name": "ipython",

    "version": 3

   },
   "file_extension": ".py",
   "mimetype": "text/x-python",
   "name": "python",
   "nbconvert_exporter": "python",

   "pygments_lexer": "ipython3",
   "version": "3.5.2"

  }
 },
 "nbformat": 4,
 "nbformat_minor": 0
}
