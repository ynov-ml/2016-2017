{
 "cells": [
  {
   "cell_type": "markdown",
   "metadata": {},
   "source": [
    "# rapport final"
   ]
  },
  {
   "cell_type": "markdown",
   "metadata": {},
   "source": [
    "Version actuelle: v2\n",
    "\n",
    "v1: Premiere analyse, decouverte des datafiles et de la librairie Panda\n",
    "\n",
    "v2: Amelioration du document, approfondissement de l'analyse\n",
    "\n",
    "\n",
    "### Sommaire:\n",
    "* Partie 1:\n",
    "Exploration des datas\n",
    "* Partie 2:\n",
    "Exploration de la librairie Panda\n",
    "* Partie 3:\n",
    "Nettoyage des données\n",
    "* Partie 4:\n",
    "Debut d'analyse"
   ]
  },
  {
   "cell_type": "markdown",
   "metadata": {},
   "source": [
    "---"
   ]
  },
  {
   "cell_type": "markdown",
   "metadata": {},
   "source": [
    "### Partie 1\n",
    "Exploration des datas"
   ]
  },
  {
   "cell_type": "markdown",
   "metadata": {},
   "source": [
    "Nous commençons par recuperer les données dans les fichiers sources.\n",
    "Nous creons 2 objets python a partir de fichiers CSV.\n",
    "Le detail de chaque ligne est precisé directement dans le code suivant (code recupéré puis commentée de @JeffAbrahamson):"
   ]
  },
  {
   "cell_type": "code",
   "execution_count": null,
   "metadata": {
    "collapsed": false
   },
   "outputs": [],
   "source": [
    "import matplotlib\n",
    "%matplotlib inline\n",
    "\n",
    "import csv as csv \n",
    "import numpy as np\n",
    "\n",
    "# ouvre le fichier CSV et en cree un objet Python\n",
    "data_all = [] #cree l'objet\n",
    "with open('train.csv') as train_file: #ouvre le fichier csv\n",
    "    csv_reader = csv.reader(train_file, delimiter=',', quotechar='\"') #explore le fichier csv grace a la fonction csv.reader\n",
    "    for row in csv_reader: #pour chaque colonne dans le fichier\n",
    "        data_all.append(row) #cree un colonne et remplis la donnée\n",
    "data_all = np.array(data_all) #cree un tableau\n",
    "data = data_all[1::] #variable qui contient les colonne à partir de la 2nd (1 en code)\n",
    "\n",
    "# Meme chose qu'au dessus\n",
    "test_all = []\n",
    "with open('test.csv') as test_file:\n",
    "    csv_reader = csv.reader(test_file, delimiter=',', quotechar='\"')\n",
    "    for row in csv_reader:\n",
    "        test_all.append(row)\n",
    "test_all = np.array(test_all)\n",
    "test = test_all[1::]"
   ]
  },
  {
   "cell_type": "markdown",
   "metadata": {
    "collapsed": true
   },
   "source": [
    "Code qui permet de recuperer les information sur le nombre de passager total, survivant, seulement sur les hommes puis seulement sur les femmes à bord (code recupéré, modifié, puis commenté de @JeffAbrahamson):"
   ]
  },
  {
   "cell_type": "code",
   "execution_count": null,
   "metadata": {
    "collapsed": false
   },
   "outputs": [],
   "source": [
    "number_passengers = np.size(data[0::,1].astype(np.float)) #nombre de passager total\n",
    "number_survived = np.sum(data[0::,1].astype(np.float)) #nombre de survivant\n",
    "proportion_survivors = number_survived/number_passengers # proportion de survivant\n",
    "\n",
    "women_only_stats = data[0::,4] == \"female\" #on recupere les lignes concernant seulement les femmmes\n",
    "men_only_stats = data[0::,4] != \"female\" #on recupere les lignes concernant seulement les hommes\n",
    "\n",
    "women_onboard = data[women_only_stats,1].astype(np.float) #on recupere la 2nd collone du tableau seulement pour les femmes  \n",
    "men_onboard = data[men_only_stats,1].astype(np.float) #on recupere la 2nd collone du tableau seulement pour les hommes  \n",
    "total_women=np.size(women_onboard) #nombre de femmes à bord (grace au nombre total de lignes)\n",
    "total_men=np.size(men_onboard) #nombre d'hommes à bord (grace au nombre total de lignes)\n",
    "survived_women=np.sum(women_onboard) #nombre de femmes survivantes (grace au nombre de lignes a 1)\n",
    "survived_men=np.sum(men_onboard) #nombre de d'hommes survivantes (grace au nombre de lignes a 1)\n",
    "\n",
    "proportion_women_survived = survived_women/total_women #proportion de femmes survivantes\n",
    "proportion_men_survived = survived_men/total_men #proportion de femmes survivantes"
   ]
  },
  {
   "cell_type": "markdown",
   "metadata": {},
   "source": [
    "Puis on affiche des stats grace au code precedent:"
   ]
  },
  {
   "cell_type": "code",
   "execution_count": null,
   "metadata": {
    "collapsed": false
   },
   "outputs": [],
   "source": [
    "print'Le total des passagers est',number_passengers,'dont à peu pres',(total_women*100)/number_passengers,'% de femmes et',(total_men*100)/number_passengers,'% d\\'hommes'\n",
    "print'Le total des survivants est {s:.0f} soit'.format(s=number_survived),'{p:.0f}%'.format(p=proportion_survivors*100)\n",
    "print'{s:.0f}'.format(s=survived_women),'femmes ont survecues sur',total_women,'soit {p:.0f}%'.format(p=proportion_women_survived*100),'de toutes les femmes'\n",
    "print'{s:.0f}'.format(s=survived_men),'hommes ont survecues sur',total_men,'soit {p:.0f}%'.format(p=proportion_men_survived*100),'de tous les hommes'"
   ]
  },
  {
   "cell_type": "markdown",
   "metadata": {},
   "source": [
    "---"
   ]
  },
  {
   "cell_type": "markdown",
   "metadata": {},
   "source": [
    "### Partie 2\n",
    "Exploration de la librairie Panda et tri des données"
   ]
  },
  {
   "cell_type": "markdown",
   "metadata": {},
   "source": [
    "Maintenant nous allons utiliser la librairie Panda et explorer un peu ses fonctionnalitées, on commence par afficher des infos sur chaque colonne grace a l'argument \".info()\" :"
   ]
  },
  {
   "cell_type": "code",
   "execution_count": null,
   "metadata": {
    "collapsed": false
   },
   "outputs": [],
   "source": [
    "import pandas as pd\n",
    "\n",
    "datap = pd.read_csv('train.csv', header=0) #contient toutes les données issue de train.csv, ces données sont maintenant exploitable avec panda\n",
    "datap.info() #affiche chaque colonne et des infos (type, nb valeur, nul ou pas)"
   ]
  },
  {
   "cell_type": "markdown",
   "metadata": {},
   "source": [
    "Ou encore un resumé du contenu des colones grace à l'argument \".describe()\":"
   ]
  },
  {
   "cell_type": "code",
   "execution_count": null,
   "metadata": {
    "collapsed": false
   },
   "outputs": [],
   "source": [
    "datap.describe() #Prend chaque colonne numerique du tableau et affiche des information (total,moy,ecart type,val mini,val max...)"
   ]
  },
  {
   "cell_type": "markdown",
   "metadata": {},
   "source": [
    "Grace a la librairie \"pylab\" on peux afficher des graphiques:\n",
    "* 1er tableau: Répartition du nombre de passager ayant 1,2,3... membre de sa famille avec lui sur le bateau. On observe qu'une majoritée de passagés sont venu seul.\n",
    "* 2nd tableau: Répartition du prix du billet payé par passagé. Un majorité de passagés à payé son billet moins de 50€"
   ]
  },
  {
   "cell_type": "code",
   "execution_count": null,
   "metadata": {
    "collapsed": false,
    "scrolled": true
   },
   "outputs": [],
   "source": [
    "import pylab as P\n",
    "datap['SibSp'].hist() #cree un tableau avec les infos de la colonne SibSp\n",
    "P.ylabel('Nombre de passager') #nomme l'axe y\n",
    "P.xlabel('nombre de freres/soeurs/parents') #nomme l'axe x\n",
    "P.show() #affiche te tableau\n",
    "\n",
    "datap['Fare'].hist(bins=np.linspace(0,550,50)) #cree un tableau avec les infos de la colonne Fare et on reduit la largeur de colones pour plus de precision\n",
    "P.ylabel('Nombre de passager') #nomme l'axe y\n",
    "P.xlabel('prix du billet') #nomme l'axe x\n",
    "P.show() #affiche te tableau"
   ]
  },
  {
   "cell_type": "markdown",
   "metadata": {},
   "source": [
    "### Partie 3\n",
    "Nettoyage des données\n",
    "\n",
    "(Ne sachant pas coder, je n'ai pas reussi à realiser cette partie moi-même et j'ai donc recuperé le code d'autres personnes pour pouvoir avancer, et afficher les differents graphiques).\n",
    "\n",
    "Panda permet aussi de trier des données. En effet les lot de données peuvent arriver avec des cellules vides, mal classées il faut dabord les trier/reformater. Ci dessous le tableaux des données: on observe qu'il manque la colonne homme/femme (elle est presente mais sous forme texte et non numerique) il serai interessant de la rajouter. S'il on regarde la colonne age on voit  qu'il manque l'age de certaines personnes ce qui est ennuyeux pour la suite de nos recherche, nous allons combler les vides."
   ]
  },
  {
   "cell_type": "code",
   "execution_count": null,
   "metadata": {
    "collapsed": false
   },
   "outputs": [],
   "source": [
    "datap.describe()"
   ]
  },
  {
   "cell_type": "markdown",
   "metadata": {},
   "source": [
    "Nous commençons par rajouter une colonne \"gender\" qui contientienra 0 ou 1 en fonction du sexe du passager (code recupéré puis commenté de @JeffAbrahamson):"
   ]
  },
  {
   "cell_type": "code",
   "execution_count": null,
   "metadata": {
    "collapsed": false
   },
   "outputs": [],
   "source": [
    "datap['Gender'] = 4 #Ajout d'une colonne\n",
    "datap['Gender'] = datap['Sex'].map( {'female': 0, 'male': 1} ).astype(int) #on y importe la valeur 0 ou 1 en fonction du sex du passager"
   ]
  },
  {
   "cell_type": "markdown",
   "metadata": {},
   "source": [
    "Ensuite on fait la mediane d'age pour chaque passager par rapport au sexe et à la classe, ce qui nous donnera une approximation et nous permettra de remplir chaque case vide par la valeur mediane trouvée (code recupéré de @AlexSoudant):"
   ]
  },
  {
   "cell_type": "code",
   "execution_count": null,
   "metadata": {
    "collapsed": false
   },
   "outputs": [],
   "source": [
    "# Création d'un objet de deux lignes et 3 colonnes qui contiendra les medianes des ages pour chaque sexe et classe de passagers\n",
    "median_ages = np.zeros((2,3))\n",
    "for i in range(0, 2):\n",
    "    for j in range(0, 3):\n",
    "        median_ages[i,j] = datap[(datap['Gender'] == i) & \\\n",
    "                              (datap['Pclass'] == j+1)]['Age'].dropna().median()\n",
    "\n",
    "# Création d'un dictionnaire contenant ces informations selon le sexe et la classe des passagers\n",
    "dico_median = {1: [\"Femme\",\"1ere Classe\", median_ages[0,0]]\n",
    "                ,2: [\"Femme\",\"2nde Classe\", median_ages[0,1]]\n",
    "                ,3: [\"Femme\",\"3ieme Classe\", median_ages[0,2]]\n",
    "                ,4: [\"Homme\",\"1ere Classe\", median_ages[1,0]]\n",
    "                ,5: [\"Homme\",\"2nde Classe\", median_ages[1,1]]\n",
    "                ,6: [\"Homme\",\"3ieme Classe\", median_ages[1,2]]}\n",
    "\n",
    "# On commence avec une copie :\n",
    "datap['AgeFill'] = datap['Age']\n",
    "\n",
    "# On construire une boucle for imbriquée qui permet de selectionner les valeurs NaN \n",
    "# en fonction du sexe et de la classe de passagers ainsi que leur attribuer la nouvelle valeur médiane correspondante :\n",
    "for i in range(0, 2):\n",
    "    for j in range(0, 3):\n",
    "        datap.loc[ (datap.Age.isnull()) & (datap.Gender == i) & \n",
    "                (datap.Pclass == j+1),\\\n",
    "                'AgeFill'] = median_ages[i,j]\n",
    "datap.describe()"
   ]
  },
  {
   "cell_type": "markdown",
   "metadata": {},
   "source": [
    "Grace au nettayage de notre colonne \"sexe\" on peux maintenant comparer dans un tableau le prix payé par un homme et par une femme, on constate qu'il y a presque un equilibre parfait (sans doute parce qu'ils etaient en couple et ont payé le meme billet):"
   ]
  },
  {
   "cell_type": "code",
   "execution_count": null,
   "metadata": {
    "collapsed": false
   },
   "outputs": [],
   "source": [
    "import matplotlib.pyplot as plt\n",
    "\n",
    "#tableau sur le rapport sex/prix pour tous les passagés\n",
    "y = datap['Gender'] #donnée en axe y\n",
    "x = datap['Fare'] #donnée en axe x\n",
    "plt.figure()\n",
    "plt.title('sex v prix') #titre du tableau\n",
    "plt.xlabel('prix') #nomme l'axe x\n",
    "plt.ylabel(u'femme:0/homme:1') #nomme l'axe y\n",
    "plt.plot(x, y, 'k.') #place les point en fonction des données des variables x et y\n",
    "plt.axis([-0.5, 520, -0.5, 1.5]) #fixe la taille du tableau (au niveau valeurs)\n",
    "plt.grid(True) #affiche la grille\n",
    "plt.show() #affiche le tableau"
   ]
  },
  {
   "cell_type": "markdown",
   "metadata": {},
   "source": [
    "#### Partie 3\n",
    "Debut d'analyse\n",
    "\n",
    "J'ai produit quelques tableaux de repartitions basées sur plusieurs stats et j'ai ensuite produit des graphiues de regression lineaire pour mettre en avant ce que les tableau demontre."
   ]
  },
  {
   "cell_type": "markdown",
   "metadata": {},
   "source": [
    "*  rapport age/survie des plus de 50 ans: on constate qu'a partir de 64 ans les passagées sont tous decedé... ou presque, le plus vieux (80 ans) à lui survecu !\n",
    "*  Graphique de regression lineaire sur tout les passagées du bateau: on observe que plus le passager est agée plus il a une probabilitée qu'il soit mort (cependant cette tendance est legere).\n"
   ]
  },
  {
   "cell_type": "code",
   "execution_count": null,
   "metadata": {
    "collapsed": false
   },
   "outputs": [],
   "source": [
    "#tableau sur le rapport age/survie pour les passagés de plus de 50 ans\n",
    "y = datap['Survived']\n",
    "x = datap['AgeFill']\n",
    "plt.figure()\n",
    "plt.title('age v survivant >50 ans')\n",
    "plt.xlabel('Age')\n",
    "plt.ylabel(u'survecu (0:non/1:oui)')\n",
    "plt.plot(x, y, 'k.')\n",
    "plt.axis([50, 81, -0.5, 1.5])\n",
    "plt.grid(True)\n",
    "plt.show()\n",
    "\n",
    "#graphique de régression linéaire famille/classe\n",
    "fit = np.polyfit(x,y,1)\n",
    "fit_fn = np.poly1d(fit)\n",
    "plt.title('age v survivant')\n",
    "plt.xlabel('Age')\n",
    "plt.ylabel(u'survecu (0:non/1:oui)')\n",
    "plt.plot(x,y, 'yo', x, fit_fn(x), '--k')\n",
    "plt.xlim(0, 81)\n",
    "plt.ylim(-0.5, 1.5)\n",
    "plt.show()"
   ]
  },
  {
   "cell_type": "markdown",
   "metadata": {},
   "source": [
    "*  rapport age/classe pour les moins de 30 ans: on voit qu'une majorité de moins de 15 ans on logé en 3eme classe\n",
    "*  Regression lineaire sur tout les passagers du bateau: Ce tableau montre clairement que plus le passager est agé plus il a tendance à choisir une classe elevée."
   ]
  },
  {
   "cell_type": "code",
   "execution_count": null,
   "metadata": {
    "collapsed": false
   },
   "outputs": [],
   "source": [
    "#tableau sur le rapport age/classe pour les passagés de moins de 30 ans\n",
    "y = datap['Pclass']\n",
    "x = datap['AgeFill']\n",
    "plt.figure()\n",
    "plt.title('Age v classe <30 ans')\n",
    "plt.xlabel('Age')\n",
    "plt.ylabel(u'Classe')\n",
    "plt.plot(x, y, 'k.')\n",
    "plt.axis([0, 30, 0, 4])\n",
    "plt.grid(True)\n",
    "plt.show()\n",
    "\n",
    "#graphique de régression linéaire age/classe\n",
    "fit = np.polyfit(x,y,1)\n",
    "fit_fn = np.poly1d(fit)\n",
    "plt.title('Age v classe')\n",
    "plt.xlabel('Age')\n",
    "plt.ylabel(u'Classe')\n",
    "plt.plot(x,y, 'yo', x, fit_fn(x), '--k')\n",
    "plt.xlim(0, 80)\n",
    "plt.ylim(0, 4)\n",
    "plt.show()"
   ]
  },
  {
   "cell_type": "markdown",
   "metadata": {},
   "source": [
    "*  Un graphique de regression lineaire sur le rapport famille/classe qui met en avant que plus il y a de membre de la famille moins les passager choisissent une classe elevée. on voit qu'a partir de 4 personnes dans un famille les membres logent toujours en 3eme classe"
   ]
  },
  {
   "cell_type": "code",
   "execution_count": null,
   "metadata": {
    "collapsed": false
   },
   "outputs": [],
   "source": [
    "#graphique de régression linéaire famille/classe\n",
    "y = datap['Pclass']\n",
    "x = datap['SibSp']\n",
    "fit = np.polyfit(x,y,1)\n",
    "fit_fn = np.poly1d(fit)\n",
    "plt.title('famille v classe')\n",
    "plt.xlabel('nb membre famille')\n",
    "plt.ylabel(u'Classe')\n",
    "plt.plot(x,y, 'yo', x, fit_fn(x), '--k')\n",
    "plt.xlim(-0.5, 9)\n",
    "plt.ylim(0.5, 3.5)\n",
    "plt.show()"
   ]
  },
  {
   "cell_type": "code",
   "execution_count": null,
   "metadata": {
    "collapsed": false
   },
   "outputs": [],
   "source": []
  },
  {
   "cell_type": "code",
   "execution_count": null,
   "metadata": {
    "collapsed": true
   },
   "outputs": [],
   "source": []
  },
  {
   "cell_type": "code",
   "execution_count": null,
   "metadata": {
    "collapsed": true
   },
   "outputs": [],
   "source": []
  }
 ],
 "metadata": {
  "anaconda-cloud": {},
  "kernelspec": {
   "display_name": "Python [default]",
   "language": "python",
   "name": "python2"
  },
  "language_info": {
   "codemirror_mode": {
    "name": "ipython",
    "version": 2
   },
   "file_extension": ".py",
   "mimetype": "text/x-python",
   "name": "python",
   "nbconvert_exporter": "python",
   "pygments_lexer": "ipython2",
   "version": "2.7.12"
  }
 },
 "nbformat": 4,
 "nbformat_minor": 2
}
