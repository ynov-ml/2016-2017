{
 "cells": [
  {
   "cell_type": "markdown",
   "metadata": {},
   "source": [
    "# Evaluation"
   ]
  },
  {
   "cell_type": "markdown",
   "metadata": {},
   "source": [
    "#### Intro\n",
    "\n",
    "Louis est parti sur l'analyse de plusieurs scenario en fonction des données recoltées dans le fichier:\n",
    "* Proportion de deces en fonction du sexe de la personne\n",
    "* Proportion de deces en fonction du sexe de la classe\n",
    "* Proportion de deces en fonction du sexe de son age"
   ]
  },
  {
   "cell_type": "markdown",
   "metadata": {},
   "source": [
    "#### Analyse\n",
    "Louis importe les données puis commence a les nettoyer (il ajoute la colonne sexe composée du statut homme/femme et remplis les valeures vide dans la colonne age).\n",
    "\n",
    "Ensuite louis testes les diffentes valeurs pour trouver des valeurs aberrantes , ça maniere de proceder est tres bien faite et tres comprehensible. il fait meme des recherches sur google pour retrouver le passager qui a payé le billet le plus cher ! top !\n",
    "* Proportion de deces en fonction du sexe de la personne\n",
    "Louis affiches plusieurs diagrammes sur le taux de deces d'hommes/femmes. ses diagrammes permettent de relever rapidement que le taux de survie des hommes est bien plus faible.\n",
    "\n",
    "* Proportion de deces en fonction de la classe\n",
    "Louis affiche aussi des diagrammes en fonction de la classe ou le passager logait. on observe immediatement que plus la classe etait elevée plus les passager avait des chances de survie.\n",
    "\n",
    "* Proportion de deces en fonction de son age\n",
    "\n"
   ]
  },
  {
   "cell_type": "markdown",
   "metadata": {},
   "source": [
    "#### en conclusion\n",
    "\n",
    "Joli document, agreable à lire et simple à comprendre.\n",
    "Louis a bien decrit chaque etape de son etude en ajoutant des titres.\n",
    "Il a commenté son code à plusieurs endroits et a rajouté des graphiques colorés qui animent la presentation.\n",
    "De plus ses analyses sont pertinentes."
   ]
  },
  {
   "cell_type": "code",
   "execution_count": null,
   "metadata": {
    "collapsed": true
   },
   "outputs": [],
   "source": []
  }
 ],
 "metadata": {
  "kernelspec": {
   "display_name": "Python 2",
   "language": "python",
   "name": "python2"
  },
  "language_info": {
   "codemirror_mode": {
    "name": "ipython",
    "version": 2
   },
   "file_extension": ".py",
   "mimetype": "text/x-python",
   "name": "python",
   "nbconvert_exporter": "python",
   "pygments_lexer": "ipython2",
   "version": "2.7.12"
  }
 },
 "nbformat": 4,
 "nbformat_minor": 2
}
