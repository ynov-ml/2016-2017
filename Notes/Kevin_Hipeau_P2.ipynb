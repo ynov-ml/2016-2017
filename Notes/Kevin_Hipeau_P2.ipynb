{
 "cells": [
  {
   "cell_type": "markdown",
   "metadata": {},
   "source": [
    "# Evaluation"
   ]
  },
  {
   "cell_type": "markdown",
   "metadata": {},
   "source": [
    "#### Intro\n",
    "\n",
    "Kevin a poursuivi l'exercice P1, on retrouve donc quelques precedentes analyses tel que:\n",
    "* nombre de mort en fonction de la lettre des Cabine\n",
    "* ticket est pair ou impair et si il a donc plus de chance de survivre\n",
    "* voir si les personnes survivantes on de l'entourage\n",
    "* Relation entre la classe et l'age\n",
    "* Relation entre le prix du billet et l'age\n",
    "\n",
    "Il a tenté de realiser quelques predictions :\n",
    "\n",
    "* Prediction des survivants en fonction de  la taille de la famille\n",
    "* Prédictions des survivants en fonction de la classe de cabine\n",
    "* Prédictions des survivants en fonction de la classe du sexe\n",
    "* Prédictions des survivants en fonction de la classe du prix du billet\n",
    "* Affichage d'un abre decisionnel en prenant le sexe en variable\n",
    "* Affichage d'un abre decisionnel en prenant le prix en variable\n",
    "* Affichage d'un abre decisionnel en prenant le prix en variable\n",
    "* Affichage d'un abre decisionnel en prenant la taille de la famille en variable"
   ]
  },
  {
   "cell_type": "markdown",
   "metadata": {},
   "source": [
    "#### Analyse\n",
    "Pour commencer, Kevin importe  toutes les librairies puis importe toutes les données issue du fichier CSV pour enfin les importer dans Panda.\n",
    "\n",
    "Puis Kevin nettoie les données\n",
    "\n",
    "Puis il fait la partie analyse des données (P1):\n",
    "* nombre de mort en fonction de la lettre des Cabine\n",
    "\n",
    "Kevin cree une metode qui parcoure le fichier a la recherche des survivant et de leur cabine associé, sont code rempli automatiquement les champs vides (super !).\n",
    "En utilisant cette methode il peut ainsi classer chaque personne dans une cabine (sinon dans 'autres') et dire s'il a survecu ou pas.\n",
    "Enfin il affiche ces informations dans un tableau puis un camembert.\n",
    "Le code me semble assez complexe et je n'ai pas vraiment compris tout ce qu'il faisait :-) En tout cas ça a l'air de marcher !\n",
    "Le code est bien commenté au debut et moins a la fin, ce qui m'a compliqué la tache de comprehension, les tableau n'ont pas de titres non plus :/\n",
    "* ticket est pair ou impair et si il a donc plus de chance de survivre\n",
    "\n",
    "Encore un fois Kevin cree une metode qui va recuperer le numero du ticket, definir s'il est paire ou impair et voir si son passager est mort ou pas. Puis il en fait un graphique.\n",
    "Cette recherche n'est pas vraiment pertinente mais demontre la technique de Kevin (je trouve ça balaise !).\n",
    "* voir si les personnes survivantes on de l'entourage\n",
    "\n",
    "Kevin commence par  creer un dictionnaire, en parcourant tout les survivants puis note l'entourage du passager (et le cree à la volée s'il n'est pas connu) . il separe les clés et les valeurs (je ne sais pas ce que ça signifie) et affiche enfin le tableau.\n",
    "Interessant ausi on  observe que les personnes seules on plus survecues (surment du fait qu'il on sauvé leur peau avant celle des autres...)\n",
    "* Relation entre la classe et l'age\n",
    "\n",
    "Kevien trie d'abord les données, puis grace a son tri il peux faire une moyenne sur l'age des passagers par classe et enfin afficher une regression lineaire sur le rapport entre l'age des passagers et la classe choisie.\n",
    "Cette etude est interessante et montre que plus l'age est elevé  plus  les passagers on tendance a prendre la premiere classe (l'axe des abscisses n'est pas commenté donc c'est peux etre l'inverse !).\n",
    "* Relation entre le prix du billet et l'age\n",
    "\n",
    "Kevin presente une  regression lineaire de la meme maniere qu'avant et nous permet de voir que plus l'age est elevé plus les passager ont tendance a payer leur billet cher.\n",
    "Le titre du tableau est erroné.\n",
    "\n",
    "Puis il entame la partie prediction des données (P2):\n",
    "\n",
    "Il commence par creer tout les procedures qui permettront de realiser les differentes predictions, afficher la matrice de confusion et les arbres de prediction, il a plus commenté qu'avant mais malgres tout j'ai beaucoup de mal à comprendre ce qui se passe ici.\n",
    "* Prediction des survivants en fonction de la taille de la famille\n",
    "Il lance une prediction de survie en fonction des membres de la famille et atteint 70% de reussite ce qui est plutot impressionnant !\n",
    "Il affiche un matrice dont je ne comprend pas du tout l'interet... car elle n'est pas commentée (et peut etre pcq je ne l'affiche pas correctement).\n",
    "\n",
    "* Prédictions des survivants en fonction de la classe de cabine\n",
    "pareil qu'au dessus\n",
    "\n",
    "* Prédictions des survivants en fonction de la classe du sexe\n",
    "pareil qu'au dessus\n",
    "\n",
    "* Prédictions des survivants en fonction de la classe du prix du billet\n",
    "pareil qu'au dessus\n",
    "\n",
    "* Affichage d'un abre decisionnel en prenant le sexe en variable\n",
    "Censé afficher un arbre decisionnel mais le programme plante: OSError: [Errno 2] No such file or directory\n",
    "\n",
    "Kevin nous donne malgres tout une conclusion interessante.\n",
    "* Affichage d'un abre decisionnel en prenant le prix en variable\n",
    "pareil qu'au dessus\n",
    "\n",
    "* Affichage d'un abre decisionnel en prenant le prix en variable\n",
    "pareil qu'au dessus\n",
    "\n",
    "* Affichage d'un abre decisionnel en prenant la taille de la famille en variable\n",
    "pareil qu'au dessus\n",
    "\n",
    "Kevin detecte que son arbre n'est pas viable."
   ]
  },
  {
   "cell_type": "markdown",
   "metadata": {},
   "source": [
    "#### en conclusion\n",
    "\n",
    "Document tres technique, je n'ai pas tout compris mais il y a beaucoup de methodes interessante et l'utilisation du code est bien faite.\n",
    "Le code est plus commenté qu'avant mais le document reste fouilli, il manque des chapitres, des separation entres les parties par exemple.\n",
    "Les analyses sont interessantes et pertinentes. et surtout kevin a tenté d'utiliser des methodes plus avancées et a visiblement reussi à s'en servir (meme si le resultat est loin de la realitée parfois). Bravo !"
   ]
  },
  {
   "cell_type": "code",
   "execution_count": null,
   "metadata": {
    "collapsed": true
   },
   "outputs": [],
   "source": []
  }
 ],
 "metadata": {
  "kernelspec": {
   "display_name": "Python 2",
   "language": "python",
   "name": "python2"
  },
  "language_info": {
   "codemirror_mode": {
    "name": "ipython",
    "version": 2
   },
   "file_extension": ".py",
   "mimetype": "text/x-python",
   "name": "python",
   "nbconvert_exporter": "python",
   "pygments_lexer": "ipython2",
   "version": "2.7.12"
  }
 },
 "nbformat": 4,
 "nbformat_minor": 2
}
