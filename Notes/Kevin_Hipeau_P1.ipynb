{
 "cells": [
  {
   "cell_type": "markdown",
   "metadata": {},
   "source": [
    "# Evaluation"
   ]
  },
  {
   "cell_type": "markdown",
   "metadata": {},
   "source": [
    "#### Intro\n",
    "\n",
    "Guillaume est parti sur l'analyse de plusieurs scenario en fonction des données recoltées dans le fichier:\n",
    "* nombre de mort en fonction de la lettre des Cabine\n",
    "* ticket est pair ou impair et si il a donc plus de chance de survivre\n",
    "* voir si les personnes survivantes on de l'entourage\n",
    "* Relation entre la classe et l'age\n",
    "* Relation entre le prix du billet et l'age"
   ]
  },
  {
   "cell_type": "markdown",
   "metadata": {},
   "source": [
    "#### Analyse\n",
    "Pour commencer, Kevin importe  toutes les librairies puis importe toutes les données issue du fichier CSV pour enfin les importer dans Panda.\n",
    "Et il entame directement la partie analyse des données:\n",
    "* nombre de mort en fonction de la lettre des Cabine\n",
    "\n",
    "Kevin cree une metode qui parcoure le fichier a la recherche des survivant et de leur cabine associé, sont code rempli automatiquement les champs vides (super !).\n",
    "En utilisant cette methode il peut ainsi classer chaque personne dans une cabine (sinon dans 'autres') et dire s'il a survecu ou pas.\n",
    "Enfin il affiche ces informations dans un tableau puis un camembert.\n",
    "Le code me semble assez complexe et je n'ai pas vraiment compris tout ce qu'il faisait :-) En tout cas ça a l'air de marcher !\n",
    "Le code est bien commenté au debut et moins a la fin, ce qui m'a compliqué la tache de comprehension, les tableau n'ont pas de titres non plus :/\n",
    "* ticket est pair ou impair et si il a donc plus de chance de survivre\n",
    "\n",
    "Encore un fois Kevin cree une metode qui va recuperer le numero du ticket, definir s'il est paire ou impair et voir si son passager est mort ou pas. Puis il en fait un graphique.\n",
    "Cette recherche n'est pas vraiment pertinente mais demontre la technique de Kevin (je trouve ça balaise !).\n",
    "* voir si les personnes survivantes on de l'entourage\n",
    "\n",
    "Kevin commence par  creer un dictionnaire, en parcourant tout les survivants puis note l'entourage du passager (et le cree à la volée s'il n'est pas connu) . il separe les clés et les valeurs (je ne sais pas ce que ça signifie) et affiche enfin le tableau.\n",
    "Interessant ausi on  observe que les personnes seules on plus survecues (surment du fait qu'il on sauvé leur peau avant celle des autres...)\n",
    "* Relation entre la classe et l'age\n",
    "\n",
    "Kevien trie d'abord les données, puis grace a son tri il peux faire une moyenne sur l'age des passagers par classe et enfin afficher une regression lineaire sur le rapport entre l'age des passagers et la classe choisie.\n",
    "Cette etude est interessante et montre que plus l'age est elevé  plus  les passagers on tendance a prendre la premiere classe (l'axe des abscisses n'est pas commenté donc c'est peux etre l'inverse !).\n",
    "* Relation entre le prix du billet et l'age\n",
    "\n",
    "Kevin presente une  regression lineaire de la meme maniere qu'avant et nous permet de voir que plus l'age est elevé plus les passager ont tendance a payer leur billet cher.\n",
    "Le titre du tableau est erroné."
   ]
  },
  {
   "cell_type": "markdown",
   "metadata": {},
   "source": [
    "#### en conclusion\n",
    "\n",
    "Document tres technique, je n'ai pas tout compris mais il y a beaucoup de methodes interessante et l'utilistion du code est bien faite.\n",
    "Cependant c'est un peux fouilli et ce n'est pas commenté partout. Neamoins la presence de graphique anime le document.\n",
    "Les analyses sont pour la plupart interessantes et pertinentes."
   ]
  },
  {
   "cell_type": "code",
   "execution_count": null,
   "metadata": {
    "collapsed": true
   },
   "outputs": [],
   "source": []
  }
 ],
 "metadata": {
  "kernelspec": {
   "display_name": "Python 2",
   "language": "python",
   "name": "python2"
  },
  "language_info": {
   "codemirror_mode": {
    "name": "ipython",
    "version": 2
   },
   "file_extension": ".py",
   "mimetype": "text/x-python",
   "name": "python",
   "nbconvert_exporter": "python",
   "pygments_lexer": "ipython2",
   "version": "2.7.12"
  }
 },
 "nbformat": 4,
 "nbformat_minor": 2
}
