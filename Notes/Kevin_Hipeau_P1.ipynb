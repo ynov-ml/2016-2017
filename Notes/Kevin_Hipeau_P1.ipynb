{
 "cells": [
  {
   "cell_type": "markdown",
   "metadata": {},
   "source": [
    "# Evaluation"
   ]
  },
  {
   "cell_type": "markdown",
   "metadata": {},
   "source": [
    "#### Intro\n",
    "\n",
    "Guillaume est parti sur l'analyse de plusieurs scenario en fonction des données recoltées dans le fichier:\n",
    "* nombre de mort en fonction de la lettre des Cabine\n",
    "* ticket est pair ou impair et si il a donc plus de chance de survivre\n",
    "* voir si les personnes survivantes on de l'entourage\n",
    "* Relation entre la classe et l'age\n",
    "* Relation entre le prix du billet et l'age"
   ]
  },
  {
   "cell_type": "markdown",
   "metadata": {},
   "source": [
    "#### Analyse\n",
    "Pour commencer, Kevin importe  toutes les librairies puis importe toutes les données issue du fichier CSV pour enfin les importer dans Panda.\n",
    "Et il entame directement la partie analyse des données:\n",
    "* nombre de mort en fonction de la lettre des Cabine\n",
    "\n",
    "Kevin cree une metode qui parcoure le fichier a la recherche des survivant et de leur cabine associé, sont code rempli automatiquement les champs vides (super !).\n",
    "En utilisant cette methode il peut ainsi classer chaque personne dans une cabine (sinon dans 'autres') et dire s'il a survecu ou pas.\n",
    "Enfin il affiche ces informations dans un tableau puis un camembert.\n",
    "Le code me semble assez complexe et je n'ai pas vraiment compris tout ce qu'il faisait :-) En tout cas ça a l'air de marcher !\n",
    "Le code est bien commenté au debut et moins a la fin, ce qui m'a compliqué la tache de comprehension, les tableau n'ont pas de titres non plus :/\n",
    "* ticket est pair ou impair et si il a donc plus de chance de survivre\n",
    "\n",
    "Encore un fois Kevin cree une metode qui va recuperer le numero du ticket, definir s'il est paire ou impaire et voir si son passager est mort ou pas. Puis il en fait un graphique.\n",
    "Cette recherche n'est pas vraiment pertinente mais demontre la technique de Kevin (je trouve ça balaise !).\n",
    "* voir si les personnes survivantes on de l'entourage\n",
    "\n",
    "\n",
    "* Relation entre la classe et l'age\n",
    "* Relation entre le prix du billet et l'age"
   ]
  },
  {
   "cell_type": "markdown",
   "metadata": {},
   "source": [
    "#### en conclusion\n",
    "\n",
    "Joli document, agreable à lire et simple à comprendre.\n",
    "Guillaume a bien decrit chaque etape de son etude en ajoutant des titres.\n",
    "Il a commenté son code à plusieurs endroits (meme si encore plus de commentaires aurai ete les bienvenu) et a rajouté des graphiques colorés qui animent la presentation.\n",
    "De plus ses analyses sont pertinentes.\n",
    "\n",
    "/!\\ Attentions aux fautes Guillaume ! ;-)"
   ]
  },
  {
   "cell_type": "code",
   "execution_count": null,
   "metadata": {
    "collapsed": true
   },
   "outputs": [],
   "source": []
  }
 ],
 "metadata": {
  "kernelspec": {
   "display_name": "Python 2",
   "language": "python",
   "name": "python2"
  },
  "language_info": {
   "codemirror_mode": {
    "name": "ipython",
    "version": 2
   },
   "file_extension": ".py",
   "mimetype": "text/x-python",
   "name": "python",
   "nbconvert_exporter": "python",
   "pygments_lexer": "ipython2",
   "version": "2.7.12"
  }
 },
 "nbformat": 4,
 "nbformat_minor": 2
}
