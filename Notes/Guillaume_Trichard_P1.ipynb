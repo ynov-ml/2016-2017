{
 "cells": [
  {
   "cell_type": "markdown",
   "metadata": {},
   "source": [
    "# Evaluation"
   ]
  },
  {
   "cell_type": "markdown",
   "metadata": {},
   "source": [
    "#### Intro\n",
    "\n",
    "Guillaume est parti sur l'analyse de plusieurs scenario en fonction des données recoltées dans le fichier:\n",
    "* Chances de survie des passagers en fonction de l'age\n",
    "* Chances de survie des passagers si le numéro 13 est présent dans l'age, le numéro de ticket, le numéro de passager ou le prix du billet\n",
    "* Chances de survie en fonction du prix du billet payé par les passagers\n",
    "* Chances de survies en fonction du port d'embarcation des passagers"
   ]
  },
  {
   "cell_type": "markdown",
   "metadata": {},
   "source": [
    "#### Analyse\n",
    "Guillaume decris chaque etape du traitement des données et detaille la raison pour chaque:\n",
    "> J'importe les différentes librairies qui vont me servir par la suite pour annalyser le dataFrame train\n",
    "\n",
    "> Je récupére des données depuis le fichier CSV \"train.csv\"\n",
    ">> Je rentre toutes les données dans Panda afin de traiter celles-ci plus facilement\n",
    "\n",
    "> Ajout de la colonne Gender et de la colonne AgeFill pour mieux utiliser les données par la suite\n",
    ">> Afin de plus facilement analyser les données il est nécessaire de réaliser un travail préparatoir sur celles-ci\n",
    "\n",
    "Ensuite il entame la partie analyse des données:\n",
    "* Chances de survie des passagers en fonction de l'age\n",
    "\n",
    "Etude interessante qui met en avant une realité, plus une personne est agé plus elle est vulnerable, tres interessant à observer.\n",
    "Pour cela Guillaume recupere le pourcentage de survie en fonction de l'age des passagers du bateau puis produit ensuite un graphique en point et un graphique de regression lineaire. \n",
    "\n",
    "* Chances de survie des passagers si le numéro 13 est présent dans l'age, le numéro de ticket, le numéro de passager ou le prix du billet\n",
    "\n",
    "Etude pas vraiment necessaire mais tres marrante, il fallait avoir l'idée de le faire ! au final elle ne revele rien de particulier.\n",
    "Techniquement c'est fort, Guillaume recupere  toutes les valeurs 13 presente dans le tableau et cumules les passager pour enfin faire un graphique simple à comprendre.\n",
    "\n",
    "* Chances de survie en fonction du prix du billet payé par les passagers\n",
    "\n",
    "Encore une etude pertinente , la regression lineaire montre que plus on paye cher le billet plus on as de chances de survie.\n",
    "Pour cela Guillaume recupere  le pourcentage de survie en fonction du prix du billet, je n'ai pas vraiment reussi a comprendre comment le code recupere cette info. Il produit ensuite un graphique en point puis un graphique de regression lineaire. C'est bien comprehensible.\n",
    "\n",
    "* Chances de survies en fonction du port d'embarcation des passagers\n",
    "\n",
    "Cette etude n'est pas vraiment necessaire (aurai elle pu reveler un conspiration ?) mais met en avant la technique de Guillaume. celui ci à utilisé des graphiques colorées ce qui rend la lecture de l'etude tres agreable.\n",
    "Guillaume recupere le nombre de mort/survivant par port puis les inscrit dans 3 graphiques.\n",
    "les commentaire sont en anglais: code pompé ? :-P"
   ]
  },
  {
   "cell_type": "markdown",
   "metadata": {},
   "source": [
    "#### en conclusion\n",
    "\n",
    "Joli document, agreable à lire et simple à comprendre.\n",
    "Guillaume a bien decrit chaque etape de son etude en ajoutant des titres.\n",
    "Il a commenté son code à plusieurs endroits (meme si encore plus de commentaires aurai ete les bienvenu) et a rajouté des graphiques colorés qui animent la presentation.\n",
    "De plus ses analyses sont pertinentes.\n",
    "Enfin techniquement ca semble solide, Guillaume maitrise le code.\n",
    "\n",
    "/!\\ Attentions aux fautes Guillaume ! ;-)"
   ]
  },
  {
   "cell_type": "code",
   "execution_count": null,
   "metadata": {
    "collapsed": true
   },
   "outputs": [],
   "source": []
  }
 ],
 "metadata": {
  "kernelspec": {
   "display_name": "Python 2",
   "language": "python",
   "name": "python2"
  },
  "language_info": {
   "codemirror_mode": {
    "name": "ipython",
    "version": 2
   },
   "file_extension": ".py",
   "mimetype": "text/x-python",
   "name": "python",
   "nbconvert_exporter": "python",
   "pygments_lexer": "ipython2",
   "version": "2.7.12"
  }
 },
 "nbformat": 4,
 "nbformat_minor": 2
}
