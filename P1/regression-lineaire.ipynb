{
 "cells": [
  {
   "cell_type": "code",
   "execution_count": null,
   "metadata": {
    "collapsed": false
   },
   "outputs": [],
   "source": [
    "import numpy as np\n",
    "import scipy.stats as ss\n",
    "import matplotlib.pyplot as plt\n",
    "import sklearn\n",
    "import pandas as pd\n",
    "\n",
    "%matplotlib inline"
   ]
  },
  {
   "cell_type": "markdown",
   "metadata": {},
   "source": [
    "# La pizza\n",
    "\n",
    "Prenons comme exemple le prix des pizzas par diametre."
   ]
  },
  {
   "cell_type": "code",
   "execution_count": null,
   "metadata": {
    "collapsed": false
   },
   "outputs": [],
   "source": [
    "Diametre = [[6], [9], [12], [15], [18], [30]]\n",
    "prix = [[7], [9], [13], [17.5], [18], [24]]\n",
    "plt.figure()\n",
    "plt.title('Pizza v diametre')\n",
    "plt.xlabel('Diametre (cm)')\n",
    "plt.ylabel(u'Prix (€)')\n",
    "plt.plot(Diametre, prix, 'k.')\n",
    "plt.axis([0, 32, 0, 25])\n",
    "plt.grid(True)\n",
    "plt.show()"
   ]
  },
  {
   "cell_type": "markdown",
   "metadata": {},
   "source": [
    "Et si on trouvait une pizza de 25 cm de diametre.  Quel serait un prix raisonnable selon notre modèle?"
   ]
  },
  {
   "cell_type": "code",
   "execution_count": null,
   "metadata": {
    "collapsed": false
   },
   "outputs": [],
   "source": [
    "from sklearn.linear_model import LinearRegression\n",
    "model = LinearRegression()\n",
    "X = Diametre\n",
    "y = prix\n",
    "model.fit(X, y)\n",
    "diametre = 25\n",
    "print(u'Une pizza à {d} cm doit coûter {px:.2f} €'.format(\n",
    "        d=diametre,\n",
    "        px=model.predict([[diametre]])[0][0]))"
   ]
  },
  {
   "cell_type": "markdown",
   "metadata": {},
   "source": [
    "La class `sklearn.linear_model.LinearRegression` est un estimateur (_estimator_).  Un estimateur prédit une valeur à partir de données observées.  Brèf, il crée un modèle linéaire.\n",
    "\n",
    "Tous les estimateurs en scikit-learn implémentent les méthodes `fit()` et `predict()`.\n",
    "\n",
    "# Example : la diabète\n",
    "\n",
    "Scikit-learn propose des exemples d'ensemble de données (example data sets, plus couramment)."
   ]
  },
  {
   "cell_type": "code",
   "execution_count": null,
   "metadata": {
    "collapsed": false
   },
   "outputs": [],
   "source": [
    "# Code source: Jaques Grobler\n",
    "# License: BSD 3 clause\n",
    "\n",
    "import matplotlib.pyplot as plt\n",
    "import numpy as np\n",
    "from sklearn import datasets, linear_model\n",
    "\n",
    "# Load the diabetes dataset\n",
    "diabetes = datasets.load_diabetes()\n",
    "\n",
    "\n",
    "# Use only one feature\n",
    "diabetes_X = diabetes.data[:, np.newaxis]\n",
    "diabetes_X_temp = diabetes_X[:, :, 2]\n",
    "\n",
    "# Split the data into training/testing sets\n",
    "diabetes_X_train = diabetes_X_temp[:-20]\n",
    "diabetes_X_test = diabetes_X_temp[-20:]\n",
    "\n",
    "# Split the targets into training/testing sets\n",
    "diabetes_y_train = diabetes.target[:-20]\n",
    "diabetes_y_test = diabetes.target[-20:]\n",
    "\n",
    "# Create linear regression object\n",
    "regr = linear_model.LinearRegression()\n",
    "\n",
    "# Train the model using the training sets\n",
    "regr.fit(diabetes_X_train, diabetes_y_train)\n",
    "\n",
    "# The coefficients\n",
    "print('Coefficients: \\n', regr.coef_)\n",
    "# The mean square error\n",
    "print(\"Residual sum of squares: %.2f\"\n",
    "      % np.mean((regr.predict(diabetes_X_test) - diabetes_y_test) ** 2))\n",
    "# Explained variance score: 1 is perfect prediction\n",
    "print('Variance score: %.2f' % regr.score(diabetes_X_test, diabetes_y_test))\n",
    "\n",
    "# Plot outputs\n",
    "plt.scatter(diabetes_X_test, diabetes_y_test,  color='black')\n",
    "plt.plot(diabetes_X_test, regr.predict(diabetes_X_test), color='blue',\n",
    "         linewidth=3)\n",
    "\n",
    "plt.xticks(())\n",
    "plt.yticks(())\n",
    "\n",
    "plt.show()"
   ]
  },
  {
   "cell_type": "markdown",
   "metadata": {},
   "source": [
    "# Exercise\n",
    "\n",
    "Visualiser notre modèle du prix de pizzas avec la pizza (le point) que nous avons ajouté.\n",
    "\n",
    "Quel est le modèle de régression : $\\theta_0 x + \\theta_1$ ?\n",
    "\n",
    "Quel est la valeur du _cost function_  $J(\\theta) = \\sum_{i=1}^m (h_\\theta(x_i) - y_i)^2$"
   ]
  },
  {
   "cell_type": "code",
   "execution_count": null,
   "metadata": {
    "collapsed": false
   },
   "outputs": [],
   "source": []
  },
  {
   "cell_type": "code",
   "execution_count": null,
   "metadata": {
    "collapsed": false
   },
   "outputs": [],
   "source": []
  }
 ],
 "metadata": {
  "kernelspec": {
   "display_name": "Python 2",
   "language": "python",
   "name": "python2"
  },
  "language_info": {
   "codemirror_mode": {
    "name": "ipython",
    "version": 2
   },
   "file_extension": ".py",
   "mimetype": "text/x-python",
   "name": "python",
   "nbconvert_exporter": "python",
   "pygments_lexer": "ipython2",
   "version": "2.7.12"
  }
 },
 "nbformat": 4,
 "nbformat_minor": 0
}
