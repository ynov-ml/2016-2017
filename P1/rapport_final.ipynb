{
 "cells": [
  {
   "cell_type": "markdown",
   "metadata": {},
   "source": [
    "# rapport final"
   ]
  },
  {
   "cell_type": "code",
   "execution_count": 5,
   "metadata": {
    "collapsed": false
   },
   "outputs": [
    {
     "name": "stdout",
     "output_type": "stream",
     "text": [
      "[['1' '0' '3' ..., '7.25' '' 'S']\n",
      " ['2' '1' '1' ..., '71.2833' 'C85' 'C']\n",
      " ['3' '1' '3' ..., '7.925' '' 'S']\n",
      " ..., \n",
      " ['889' '0' '3' ..., '23.45' '' 'S']\n",
      " ['890' '1' '1' ..., '30' 'C148' 'C']\n",
      " ['891' '0' '3' ..., '7.75' '' 'Q']] \n",
      "\n",
      "[['892' '3' 'Kelly, Mr. James' ..., '7.8292' '' 'Q']\n",
      " ['893' '3' 'Wilkes, Mrs. James (Ellen Needs)' ..., '7' '' 'S']\n",
      " ['894' '2' 'Myles, Mr. Thomas Francis' ..., '9.6875' '' 'Q']\n",
      " ..., \n",
      " ['1307' '3' 'Saether, Mr. Simon Sivertsen' ..., '7.25' '' 'S']\n",
      " ['1308' '3' 'Ware, Mr. Frederick' ..., '8.05' '' 'S']\n",
      " ['1309' '3' 'Peter, Master. Michael J' ..., '22.3583' '' 'C']]\n"
     ]
    }
   ],
   "source": [
    "import matplotlib\n",
    "\n",
    "%matplotlib inline\n",
    "\n",
    "import csv as csv \n",
    "import numpy as np\n",
    "\n",
    "# Open up the csv file into a Python object\n",
    "data_all = [] #cree l'objet\n",
    "with open('train.csv') as train_file: #ouvre le fichier csv et le nomme\n",
    "    csv_reader = csv.reader(train_file, delimiter=',', quotechar='\"') #explore le fichier csv grace a la fonction csv.reader\n",
    "    for row in csv_reader: #pour chaque colonne dans le fichier\n",
    "        data_all.append(row) #cree un colonne et remplis la donnée\n",
    "data_all = np.array(data_all) #cree un tableau\n",
    "data = data_all[1::] #variable qui contient les colonne à partir de la 2nd (1 en code)\n",
    "\n",
    "test_all = []\n",
    "with open('test.csv') as test_file:\n",
    "    csv_reader = csv.reader(test_file, delimiter=',', quotechar='\"')\n",
    "    for row in csv_reader:\n",
    "        test_all.append(row)\n",
    "test_all = np.array(test_all)\n",
    "test = test_all[1::]\n",
    "\n",
    "print data,\"\\n\\n\",test"
   ]
  },
  {
   "cell_type": "code",
   "execution_count": null,
   "metadata": {
    "collapsed": true
   },
   "outputs": [],
   "source": []
  }
 ],
 "metadata": {
  "kernelspec": {
   "display_name": "Python 2",
   "language": "python",
   "name": "python2"
  },
  "language_info": {
   "codemirror_mode": {
    "name": "ipython",
    "version": 2
   },
   "file_extension": ".py",
   "mimetype": "text/x-python",
   "name": "python",
   "nbconvert_exporter": "python",
   "pygments_lexer": "ipython2",
   "version": "2.7.12"
  }
 },
 "nbformat": 4,
 "nbformat_minor": 2
}
