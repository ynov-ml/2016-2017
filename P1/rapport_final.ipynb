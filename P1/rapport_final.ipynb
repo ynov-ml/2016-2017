














{
 "cells": [
  {
   "cell_type": "markdown",
   "metadata": {},
   "source": [
    "# CoolCorp\n",
    "\n",
    "CoolCorp est vraiment très cool puisqu'ils ont bien voulu nous embaucher pour analyser leurs données suite au désastre du Titanic. Pour ce faire ils nous ont fourni un fichier train.csv, c'est ce fichier que nous allons devoir importer. "
   ]
  },
  {
   "cell_type": "markdown",
   "metadata": {},
   "source": [
    "Nous commencons par importer la librairie Panda puis par lire le fichier csv où header=(0) représente la ligne d'entête. "
   ]
  },
  {
   "cell_type": "code",
   "execution_count": 57,
   "metadata": {
    "collapsed": true
   },
   "outputs": [],
   "source": [
    "import pandas as pd\n",
    "\n",
    "# For .read_csv, always use header=0 when you know row 0 is the header row\n",
    "df = pd.read_csv('train.csv', header=0)"
   ]
  },
  {
   "cell_type": "markdown",
   "metadata": {},
   "source": [
    "cela nous permet de lire ce que nous avons dans notre fichier train.csv\n",
    "Listons les premières lignes :\n"
   ]
  },
  {
   "cell_type": "code",
   "execution_count": 58,
   "metadata": {
    "collapsed": false
   },
   "outputs": [
    {
     "data": {
      "text/html": [
       "<div>\n",
       "<table border=\"1\" class=\"dataframe\">\n",
       "  <thead>\n",
       "    <tr style=\"text-align: right;\">\n",
       "      <th></th>\n",
       "      <th>PassengerId</th>\n",
       "      <th>Survived</th>\n",
       "      <th>Pclass</th>\n",
       "      <th>Name</th>\n",
       "      <th>Sex</th>\n",
       "      <th>Age</th>\n",
       "      <th>SibSp</th>\n",
       "      <th>Parch</th>\n",
       "      <th>Ticket</th>\n",
       "      <th>Fare</th>\n",
       "      <th>Cabin</th>\n",
       "      <th>Embarked</th>\n",
       "    </tr>\n",
       "  </thead>\n",
       "  <tbody>\n",
       "    <tr>\n",
       "      <th>0</th>\n",
       "      <td>1</td>\n",
       "      <td>0</td>\n",
       "      <td>3</td>\n",
       "      <td>Braund, Mr. Owen Harris</td>\n",
       "      <td>male</td>\n",
       "      <td>22.0</td>\n",
       "      <td>1</td>\n",
       "      <td>0</td>\n",
       "      <td>A/5 21171</td>\n",
       "      <td>7.2500</td>\n",
       "      <td>NaN</td>\n",
       "      <td>S</td>\n",
       "    </tr>\n",
       "    <tr>\n",
       "      <th>1</th>\n",
       "      <td>2</td>\n",
       "      <td>1</td>\n",
       "      <td>1</td>\n",
       "      <td>Cumings, Mrs. John Bradley (Florence Briggs Th...</td>\n",
       "      <td>female</td>\n",
       "      <td>38.0</td>\n",
       "      <td>1</td>\n",
       "      <td>0</td>\n",
       "      <td>PC 17599</td>\n",
       "      <td>71.2833</td>\n",
       "      <td>C85</td>\n",
       "      <td>C</td>\n",
       "    </tr>\n",
       "    <tr>\n",
       "      <th>2</th>\n",
       "      <td>3</td>\n",
       "      <td>1</td>\n",
       "      <td>3</td>\n",
       "      <td>Heikkinen, Miss. Laina</td>\n",
       "      <td>female</td>\n",
       "      <td>26.0</td>\n",
       "      <td>0</td>\n",
       "      <td>0</td>\n",
       "      <td>STON/O2. 3101282</td>\n",
       "      <td>7.9250</td>\n",
       "      <td>NaN</td>\n",
       "      <td>S</td>\n",
       "    </tr>\n",
       "    <tr>\n",
       "      <th>3</th>\n",
       "      <td>4</td>\n",
       "      <td>1</td>\n",
       "      <td>1</td>\n",
       "      <td>Futrelle, Mrs. Jacques Heath (Lily May Peel)</td>\n",
       "      <td>female</td>\n",
       "      <td>35.0</td>\n",
       "      <td>1</td>\n",
       "      <td>0</td>\n",
       "      <td>113803</td>\n",
       "      <td>53.1000</td>\n",
       "      <td>C123</td>\n",
       "      <td>S</td>\n",
       "    </tr>\n",
       "    <tr>\n",
       "      <th>4</th>\n",
       "      <td>5</td>\n",
       "      <td>0</td>\n",
       "      <td>3</td>\n",
       "      <td>Allen, Mr. William Henry</td>\n",
       "      <td>male</td>\n",
       "      <td>35.0</td>\n",
       "      <td>0</td>\n",
       "      <td>0</td>\n",
       "      <td>373450</td>\n",
       "      <td>8.0500</td>\n",
       "      <td>NaN</td>\n",
       "      <td>S</td>\n",
       "    </tr>\n",
       "  </tbody>\n",
       "</table>\n",
       "</div>"
      ],
      "text/plain": [
       "   PassengerId  Survived  Pclass  \\\n",
       "0            1         0       3   \n",
       "1            2         1       1   \n",
       "2            3         1       3   \n",
       "3            4         1       1   \n",
       "4            5         0       3   \n",
       "\n",
       "                                                Name     Sex   Age  SibSp  \\\n",
       "0                            Braund, Mr. Owen Harris    male  22.0      1   \n",
       "1  Cumings, Mrs. John Bradley (Florence Briggs Th...  female  38.0      1   \n",
       "2                             Heikkinen, Miss. Laina  female  26.0      0   \n",
       "3       Futrelle, Mrs. Jacques Heath (Lily May Peel)  female  35.0      1   \n",
       "4                           Allen, Mr. William Henry    male  35.0      0   \n",
       "\n",
       "   Parch            Ticket     Fare Cabin Embarked  \n",
       "0      0         A/5 21171   7.2500   NaN        S  \n",
       "1      0          PC 17599  71.2833   C85        C  \n",
       "2      0  STON/O2. 3101282   7.9250   NaN        S  \n",
       "3      0            113803  53.1000  C123        S  \n",
       "4      0            373450   8.0500   NaN        S  "
      ]
     },
     "execution_count": 58,
     "metadata": {},
     "output_type": "execute_result"
    }
   ],
   "source": [
    "df.head()"
   ]
  },
  {
   "cell_type": "markdown",
   "metadata": {},
   "source": [
    "Listons maintenant les types de ces données :"
   ]
  },
  {
   "cell_type": "code",
   "execution_count": 94,
   "metadata": {
    "collapsed": false,
    "scrolled": true
   },
   "outputs": [
    {
     "data": {
      "text/plain": [
       "PassengerId      int64\n",
       "Survived         int64\n",
       "Pclass           int64\n",
       "Name            object\n",
       "Sex             object\n",
       "Age            float64\n",
       "SibSp            int64\n",
       "Parch            int64\n",
       "Ticket          object\n",
       "Fare           float64\n",
       "Cabin           object\n",
       "Embarked        object\n",
       "dtype: object"
      ]
     },
     "execution_count": 94,
     "metadata": {},
     "output_type": "execute_result"
    }
   ],
   "source": [
    "df.dtypes"
   ]
  },
  {
   "cell_type": "markdown",
   "metadata": {},
   "source": [
    "Nous avons donc :\n",
    "    - un PassengerId représentant l'identifiant du passager de type int64\n",
    "    - Une indication de sa survivance au naufrage mais de type int64 et non bool\n",
    "    - Une indication sur la classe de place occupée (int64) \n",
    "    - Un nom (objet)\n",
    "    - Un sexe (objet)\n",
    "    - Un age (floate64)\n",
    "    - Une indication sur un lien de fratrie avec d'autres passagers (int64)\n",
    "    - Une indication sur un lien de parenté avec d'autres passagers (int64)\n",
    "    - Une indication sur le N° de ticket (objet)\n",
    "    - un prix du billet (float64)\n",
    "    - Une indication sur le N° de cabine (objet)\n",
    "    - une indication sur le lieu d'embarquement (objet) avec C = Cherbourg; Q = Queenstown; S = Southampton"
   ]
  },
  {
   "cell_type": "markdown",
   "metadata": {},
   "source": [
    "1) Commençons par compter notre nombre de passager. \n",
    "    Nous mettons toutes nos données dans un objet data_all (en recopiant bêtement le code du prof, je sais c'est mal :p  )\n",
    "    La dernière ligne du paragraphe suivant affiche le résultat, elle comporte toutefois un symbole étrange : \n",
    "    {p:.2f} --> kesako ?\n"
   ]
  },
  {
   "cell_type": "code",
   "execution_count": 95,
   "metadata": {
    "collapsed": false
   },
   "outputs": [
    {
     "name": "stdout",
     "output_type": "stream",
     "text": [
      "le nombre de passager est de 891.00\n"
     ]
    }
   ],
   "source": [
    "data_all = []\n",
    "with open('train.csv') as train_file:\n",
    "    csv_reader = csv.reader(train_file, delimiter=',', quotechar='\"')\n",
    "    for row in csv_reader:\n",
    "        data_all.append(row)\n",
    "data_all = np.array(data_all)\n",
    "data = data_all[1::]\n",
    "number_passengers = np.size(data[0::,1].astype(np.float))\n",
    "print (\"le nombre de passager est de {p:.2f}\" .format (p=number_passengers))"
   ]
  },
  {
   "cell_type": "markdown",
   "metadata": {},
   "source": [
    "2) Comptons maintenant le nombre de femmes et d'hommes"
   ]
  },
  {
   "cell_type": "code",
   "execution_count": 14,
   "metadata": {
    "collapsed": true
   },
   "outputs": [],
   "source": [
    "nbFemmes = data[0::,4] == \"female\"\n",
    "nbHommes = data[0::,4] != \"female\""
   ]
  },
  {
   "cell_type": "code",
   "execution_count": 66,
   "metadata": {
    "collapsed": false
   },
   "outputs": [],
   "source": [
    "totalFemmes = np.sum(nbFemmes).astype(np.float)\n",
    "totalHommes = np.sum(nbHommes).astype(np.float)"
   ]
  },
  {
   "cell_type": "code",
   "execution_count": 67,
   "metadata": {
    "collapsed": false
   },
   "outputs": [
    {
     "name": "stdout",
     "output_type": "stream",
     "text": [
      "total femmes 314.00\n"
     ]
    }
   ],
   "source": [
    "print('total femmes {p:.2f}'.format(p=totalFemmes))"
   ]
  },
  {
   "cell_type": "code",
   "execution_count": 68,
   "metadata": {
    "collapsed": false
   },
   "outputs": [
    {
     "name": "stdout",
     "output_type": "stream",
     "text": [
      "total hommes 577.00\n"
     ]
    }
   ],
   "source": [
    "print('total hommes {p:.2f}'.format(p=totalHommes))"
   ]
  },
  {
   "cell_type": "markdown",
   "metadata": {},
   "source": [
    "Nous pouvons constater ici fièrement que 577 + 314 = 891, une première victoire !"
   ]
  },
  {
   "cell_type": "markdown",
   "metadata": {},
   "source": [
    "3) Calculons maintenant la proportion d'hommes et de femmes à bord du bateau\n",
    "    La proportion d'homme = nombre d'hommes / nombre total de passagers"
   ]
  },
  {
   "cell_type": "code",
   "execution_count": 69,
   "metadata": {
    "collapsed": false
   },
   "outputs": [
    {
     "name": "stdout",
     "output_type": "stream",
     "text": [
      "Proportion d homme  0.65\n"
     ]
    }
   ],
   "source": [
    "pHommes = (totalHommes / number_passengers).astype(float)\n",
    "print('Proportion d homme  {p:.2f}'.format(\n",
    "        p=pHommes))"
   ]
  },
  {
   "cell_type": "code",
   "execution_count": 71,
   "metadata": {
    "collapsed": false
   },
   "outputs": [
    {
     "name": "stdout",
     "output_type": "stream",
     "text": [
      "Proportion de femme  0.35\n"
     ]
    }
   ],
   "source": [
    "pFemmes = totalFemmes / number_passengers\n",
    "print('Proportion de femme  {p:.2f}'.format(\n",
    "        p=pFemmes))"
   ]
  },
  {
   "cell_type": "markdown",
   "metadata": {},
   "source": [
    "Là encore nous constatons que 0.35 + 0.65 = 1, ce qui nous fait 2 victoires !\n",
    "\n",
    "Nous constatons alors que la proportion des hommes à bord du bateau est bien supérieure à la proportion de femmes parmi le nombre total de passagers. "
   ]
  },
  {
   "cell_type": "markdown",
   "metadata": {},
   "source": [
    "# Etude des survivants"
   ]
  },
  {
   "cell_type": "markdown",
   "metadata": {},
   "source": [
    "En route vers une 3ème victoire... ou pas :p\n",
    "\n",
    "Nous allons donc étudier les survivants Pour cela nous allons :"
   ]
  },
  {
   "cell_type": "markdown",
   "metadata": {},
   "source": [
    "1) Déterminer le nombre de survivants \n"
   ]
  },
  {
   "cell_type": "code",
   "execution_count": 85,
   "metadata": {
    "collapsed": false,
    "scrolled": false
   },
   "outputs": [],
   "source": [
    "Survivants = np.sum(data[0::2] == '1')"
   ]
  },
  {
   "cell_type": "code",
   "execution_count": 86,
   "metadata": {
    "collapsed": false
   },
   "outputs": [
    {
     "name": "stdout",
     "output_type": "stream",
     "text": [
      "le nombre de survivants est de 426.00\n"
     ]
    }
   ],
   "source": [
    "print('le nombre de survivants est de {p:.2f}'.format( p=Survivants))"
   ]
  },
  {
   "cell_type": "code",
   "execution_count": 98,
   "metadata": {
    "collapsed": false,
    "scrolled": true
   },
   "outputs": [
    {
     "data": {
      "text/plain": [
       "numpy.int32"
      ]
     },
     "execution_count": 98,
     "metadata": {},
     "output_type": "execute_result"
    }
   ],
   "source": [
    "type(Survivants)"
   ]
  },
  {
   "cell_type": "code",
   "execution_count": 99,
   "metadata": {
    "collapsed": false
   },
   "outputs": [
    {
     "data": {
      "text/plain": [
       "int"
      ]
     },
     "execution_count": 99,
     "metadata": {},
     "output_type": "execute_result"
    }
   ],
   "source": [
    "type(number_passengers)"
   ]
  },
  {
   "cell_type": "markdown",
   "metadata": {},
   "source": [
    "2) calculons maintenant la proportion de survivants :\n",
    "    = nombre de survivants par rapport au nombre de passagers total\n",
    "    = Survivants / number_passengers\n",
    "   "
   ]
  },
  {
   "cell_type": "code",
   "execution_count": 118,
   "metadata": {
    "collapsed": false
   },
   "outputs": [
    {
     "name": "stdout",
     "output_type": "stream",
     "text": [
      "la proportion de survivants est de 0.00\n"
     ]
    }
   ],
   "source": [
    "pS = (Survivants / number_passengers).astype(float)\n",
    "print('la proportion de survivants est de {p:.2f}'.format(p=pS))"
   ]
  },
  {
   "cell_type": "code",
   "execution_count": 110,
   "metadata": {
    "collapsed": false
   },
   "outputs": [
    {
     "name": "stdout",
     "output_type": "stream",
     "text": [
      "le nombre de survivants est de 426.00\n"
     ]
    }
   ],
   "source": [
    "nbSurvivants = Survivants.astype(float)\n",
    "print('le nombre de survivants est de {p:.2f}'.format( p=nbSurvivants))"
   ]
  },
  {
   "cell_type": "code",
   "execution_count": 111,
   "metadata": {
    "collapsed": false,
    "scrolled": false
   },
   "outputs": [
    {
     "ename": "AttributeError",
     "evalue": "'int' object has no attribute 'astype'",
     "output_type": "error",
     "traceback": [
      "\u001b[0;31m---------------------------------------------------------------------------\u001b[0m",
      "\u001b[0;31mAttributeError\u001b[0m                            Traceback (most recent call last)",
      "\u001b[0;32m<ipython-input-111-652afcb5720a>\u001b[0m in \u001b[0;36m<module>\u001b[0;34m()\u001b[0m\n\u001b[0;32m----> 1\u001b[0;31m \u001b[0mnumber_passengers\u001b[0m\u001b[1;33m.\u001b[0m\u001b[0mastype\u001b[0m\u001b[1;33m(\u001b[0m\u001b[0mfloat\u001b[0m\u001b[1;33m)\u001b[0m\u001b[1;33m\u001b[0m\u001b[0m\n\u001b[0m",
      "\u001b[0;31mAttributeError\u001b[0m: 'int' object has no attribute 'astype'"
     ]
    }
   ],
   "source": [
    "number_passengers.astype(float)"
   ]
  },
  {
   "cell_type": "code",
   "execution_count": 119,
   "metadata": {
    "collapsed": false
   },
   "outputs": [
    {
     "ename": "AttributeError",
     "evalue": "'int' object has no attribute 'astype'",
     "output_type": "error",
     "traceback": [
      "\u001b[0;31m---------------------------------------------------------------------------\u001b[0m",
      "\u001b[0;31mAttributeError\u001b[0m                            Traceback (most recent call last)",
      "\u001b[0;32m<ipython-input-119-9284c2235cee>\u001b[0m in \u001b[0;36m<module>\u001b[0;34m()\u001b[0m\n\u001b[0;32m----> 1\u001b[0;31m \u001b[0mpSurvivants\u001b[0m \u001b[1;33m=\u001b[0m \u001b[0mSurvivants\u001b[0m\u001b[1;33m.\u001b[0m\u001b[0mastype\u001b[0m\u001b[1;33m(\u001b[0m\u001b[0mfloat\u001b[0m\u001b[1;33m)\u001b[0m \u001b[1;33m/\u001b[0m \u001b[0mnumber_passengers\u001b[0m\u001b[1;33m.\u001b[0m\u001b[0mastype\u001b[0m\u001b[1;33m(\u001b[0m\u001b[0mfloat\u001b[0m\u001b[1;33m)\u001b[0m\u001b[1;33m\u001b[0m\u001b[0m\n\u001b[0m\u001b[1;32m      2\u001b[0m \u001b[1;32mprint\u001b[0m\u001b[1;33m(\u001b[0m\u001b[1;34m'le nombre de survivants est de {p:.2f}'\u001b[0m\u001b[1;33m.\u001b[0m\u001b[0mformat\u001b[0m\u001b[1;33m(\u001b[0m \u001b[0mp\u001b[0m\u001b[1;33m=\u001b[0m\u001b[0mpSurvivants\u001b[0m\u001b[1;33m)\u001b[0m\u001b[1;33m)\u001b[0m\u001b[1;33m\u001b[0m\u001b[0m\n",
      "\u001b[0;31mAttributeError\u001b[0m: 'int' object has no attribute 'astype'"
     ]
    }
   ],
   "source": [
    "pSurvivants = Survivants.astype(float) / number_passengers.astype(float)\n",
    "print('le nombre de survivants est de {p:.2f}'.format( p=pSurvivants))"
   ]
  },
  {
   "cell_type": "code",
   "execution_count": 113,
   "metadata": {
    "collapsed": false,
    "scrolled": true
   },
   "outputs": [
    {
     "name": "stdout",
     "output_type": "stream",
     "text": [
      "la proportion de survivants est 0.00\n"
     ]
    }
   ],
   "source": [
    "print('la proportion de survivants est {p:.2f}'.format( p=pSurvivants))"
   ]
  },
  {
   "cell_type": "markdown",
   "metadata": {},
   "source": [
    "Ici nous avons clairement une erreur puisque nous savons qu'elle est d'environ 1/2\n",
    "\n",
    "Les différents tests montrent qu'il s'agit d'une erreur de type de variable. \n",
    "\n",
    "Afin de palier à ce problème continuons en ommettant l'obstacle du langage Python."
   ]
  },
  {
   "cell_type": "markdown",
   "metadata": {},
   "source": [
    "# Démarche mathématique\n",
    "\n",
    "Après avoir calculé la proportion de survivants il faudrait calculer la proportion de femmes survivantes et vérifier qu'elle est égale à la proportion totale de femmes présentes sur le bateau. On saurait ainsi si la probabilité de survivre est liée au sexe.\n",
    "\n",
    "on aurait donc les calculs suivants :\n",
    "- nbFS = nombre de femmes survivantes\n",
    "- pFS = probabilité de survivre en sachant qu'on est une femme (noté : P(F|S)) = (p(F) inter p(S)) / p(S)\n",
    "\n",
    "puis on comparerait cette probabilité avec la probabilité de survie totale (= p(S), celle que nous n'avons pas réussi à calculer).\n",
    "Si le nombre est identique alors les 2 variables sont indépendantes et nous n'avons pas de lien entre la probabilité de survivre avec la probabilité d'être une femme. \n",
    "Parions que la probabilité de survivre en étant une femme est supérieure à la probabilité totale...\n",
    "\n",
    "Cela nous permettrait de poser le prédicat que la probabilité de survie est supérieure lorsqu'on est une femme que lorsqu'on est un homme, hypothèse sommes toutes, très banale ! (bin koi ? pour un coup que les femmes ont un avantage sur les hommes...)\n",
    "\n",
    "Certes il reste encore bien des notions à apprendre, calculer la moyenne qui n'a pas de sens dans cette hypothèse, la variance par rapport à la moyenne, l'écart-type, le coefficient de corrélation et la regression linéaire ou la régression logistique suivant l'hypothèse émise ou le type de données. \n",
    "Nous n'avons pas tout perdu pour autant : nous avons appris utiliser github, des notions mathématiques et des notions de python en quelques jours seulement.\n",
    "\n",
    "Merci @Jeff Abrahamson de nous torturer ainsi. \n"
   ]
  }
 ],
 "metadata": {
  "anaconda-cloud": {},
  "kernelspec": {
   "display_name": "Python [default]",
   "language": "python",
   "name": "python2"
  },
  "language_info": {
   "codemirror_mode": {
    "name": "ipython",
    "version": 2
   },
   "file_extension": ".py",
   "mimetype": "text/x-python",
   "name": "python",
   "nbconvert_exporter": "python",
   "pygments_lexer": "ipython2",
   "version": "2.7.12"
  }
 },
 "nbformat": 4,
 "nbformat_minor": 1
}